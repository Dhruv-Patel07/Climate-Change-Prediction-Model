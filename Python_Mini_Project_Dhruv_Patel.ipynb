{
 "cells": [
  {
   "cell_type": "markdown",
   "id": "f7c8050e",
   "metadata": {},
   "source": [
    "# Mini Project Topic :- Climate Change Prediction¶"
   ]
  },
  {
   "cell_type": "markdown",
   "id": "a6972f10",
   "metadata": {},
   "source": [
    "## By Dhruv Patel"
   ]
  },
  {
   "cell_type": "markdown",
   "id": "72ee94ee",
   "metadata": {},
   "source": [
    "## Enrol.NO:- 191310132089"
   ]
  },
  {
   "cell_type": "markdown",
   "id": "12f09e8d",
   "metadata": {},
   "source": [
    "## Section:- B"
   ]
  },
  {
   "cell_type": "code",
   "execution_count": 81,
   "id": "13f31958",
   "metadata": {},
   "outputs": [],
   "source": [
    "import numpy as np\n",
    "import pandas as pd\n",
    "import matplotlib.pyplot as plt\n",
    "import seaborn as sns\n",
    "%matplotlib inline"
   ]
  },
  {
   "cell_type": "code",
   "execution_count": 18,
   "id": "2f5fd13c",
   "metadata": {},
   "outputs": [],
   "source": [
    "city=pd.read_csv('GlobalLandTemperaturesByCity.csv')\n",
    "country = pd.read_csv('GlobalLandTemperaturesByCountry.csv')\n",
    "global_ = pd.read_csv('GlobalTemperatures.csv')"
   ]
  },
  {
   "cell_type": "code",
   "execution_count": 19,
   "id": "a3440f2a",
   "metadata": {},
   "outputs": [
    {
     "name": "stdout",
     "output_type": "stream",
     "text": [
      "(8599212, 7)\n"
     ]
    },
    {
     "data": {
      "text/html": [
       "<div>\n",
       "<style scoped>\n",
       "    .dataframe tbody tr th:only-of-type {\n",
       "        vertical-align: middle;\n",
       "    }\n",
       "\n",
       "    .dataframe tbody tr th {\n",
       "        vertical-align: top;\n",
       "    }\n",
       "\n",
       "    .dataframe thead th {\n",
       "        text-align: right;\n",
       "    }\n",
       "</style>\n",
       "<table border=\"1\" class=\"dataframe\">\n",
       "  <thead>\n",
       "    <tr style=\"text-align: right;\">\n",
       "      <th></th>\n",
       "      <th>dt</th>\n",
       "      <th>AverageTemperature</th>\n",
       "      <th>AverageTemperatureUncertainty</th>\n",
       "      <th>City</th>\n",
       "      <th>Country</th>\n",
       "      <th>Latitude</th>\n",
       "      <th>Longitude</th>\n",
       "    </tr>\n",
       "  </thead>\n",
       "  <tbody>\n",
       "    <tr>\n",
       "      <th>0</th>\n",
       "      <td>1743-11-01</td>\n",
       "      <td>6.068</td>\n",
       "      <td>1.737</td>\n",
       "      <td>Århus</td>\n",
       "      <td>Denmark</td>\n",
       "      <td>57.05N</td>\n",
       "      <td>10.33E</td>\n",
       "    </tr>\n",
       "    <tr>\n",
       "      <th>1</th>\n",
       "      <td>1743-12-01</td>\n",
       "      <td>NaN</td>\n",
       "      <td>NaN</td>\n",
       "      <td>Århus</td>\n",
       "      <td>Denmark</td>\n",
       "      <td>57.05N</td>\n",
       "      <td>10.33E</td>\n",
       "    </tr>\n",
       "    <tr>\n",
       "      <th>2</th>\n",
       "      <td>1744-01-01</td>\n",
       "      <td>NaN</td>\n",
       "      <td>NaN</td>\n",
       "      <td>Århus</td>\n",
       "      <td>Denmark</td>\n",
       "      <td>57.05N</td>\n",
       "      <td>10.33E</td>\n",
       "    </tr>\n",
       "    <tr>\n",
       "      <th>3</th>\n",
       "      <td>1744-02-01</td>\n",
       "      <td>NaN</td>\n",
       "      <td>NaN</td>\n",
       "      <td>Århus</td>\n",
       "      <td>Denmark</td>\n",
       "      <td>57.05N</td>\n",
       "      <td>10.33E</td>\n",
       "    </tr>\n",
       "    <tr>\n",
       "      <th>4</th>\n",
       "      <td>1744-03-01</td>\n",
       "      <td>NaN</td>\n",
       "      <td>NaN</td>\n",
       "      <td>Århus</td>\n",
       "      <td>Denmark</td>\n",
       "      <td>57.05N</td>\n",
       "      <td>10.33E</td>\n",
       "    </tr>\n",
       "  </tbody>\n",
       "</table>\n",
       "</div>"
      ],
      "text/plain": [
       "           dt  AverageTemperature  AverageTemperatureUncertainty   City  \\\n",
       "0  1743-11-01               6.068                          1.737  Århus   \n",
       "1  1743-12-01                 NaN                            NaN  Århus   \n",
       "2  1744-01-01                 NaN                            NaN  Århus   \n",
       "3  1744-02-01                 NaN                            NaN  Århus   \n",
       "4  1744-03-01                 NaN                            NaN  Århus   \n",
       "\n",
       "   Country Latitude Longitude  \n",
       "0  Denmark   57.05N    10.33E  \n",
       "1  Denmark   57.05N    10.33E  \n",
       "2  Denmark   57.05N    10.33E  \n",
       "3  Denmark   57.05N    10.33E  \n",
       "4  Denmark   57.05N    10.33E  "
      ]
     },
     "execution_count": 19,
     "metadata": {},
     "output_type": "execute_result"
    }
   ],
   "source": [
    "print(city.shape)\n",
    "city.head()"
   ]
  },
  {
   "cell_type": "code",
   "execution_count": 20,
   "id": "59193a11",
   "metadata": {},
   "outputs": [
    {
     "name": "stdout",
     "output_type": "stream",
     "text": [
      "(577462, 4)\n"
     ]
    },
    {
     "data": {
      "text/html": [
       "<div>\n",
       "<style scoped>\n",
       "    .dataframe tbody tr th:only-of-type {\n",
       "        vertical-align: middle;\n",
       "    }\n",
       "\n",
       "    .dataframe tbody tr th {\n",
       "        vertical-align: top;\n",
       "    }\n",
       "\n",
       "    .dataframe thead th {\n",
       "        text-align: right;\n",
       "    }\n",
       "</style>\n",
       "<table border=\"1\" class=\"dataframe\">\n",
       "  <thead>\n",
       "    <tr style=\"text-align: right;\">\n",
       "      <th></th>\n",
       "      <th>dt</th>\n",
       "      <th>AverageTemperature</th>\n",
       "      <th>AverageTemperatureUncertainty</th>\n",
       "      <th>Country</th>\n",
       "    </tr>\n",
       "  </thead>\n",
       "  <tbody>\n",
       "    <tr>\n",
       "      <th>0</th>\n",
       "      <td>1743-11-01</td>\n",
       "      <td>4.384</td>\n",
       "      <td>2.294</td>\n",
       "      <td>Åland</td>\n",
       "    </tr>\n",
       "    <tr>\n",
       "      <th>1</th>\n",
       "      <td>1743-12-01</td>\n",
       "      <td>NaN</td>\n",
       "      <td>NaN</td>\n",
       "      <td>Åland</td>\n",
       "    </tr>\n",
       "    <tr>\n",
       "      <th>2</th>\n",
       "      <td>1744-01-01</td>\n",
       "      <td>NaN</td>\n",
       "      <td>NaN</td>\n",
       "      <td>Åland</td>\n",
       "    </tr>\n",
       "    <tr>\n",
       "      <th>3</th>\n",
       "      <td>1744-02-01</td>\n",
       "      <td>NaN</td>\n",
       "      <td>NaN</td>\n",
       "      <td>Åland</td>\n",
       "    </tr>\n",
       "    <tr>\n",
       "      <th>4</th>\n",
       "      <td>1744-03-01</td>\n",
       "      <td>NaN</td>\n",
       "      <td>NaN</td>\n",
       "      <td>Åland</td>\n",
       "    </tr>\n",
       "  </tbody>\n",
       "</table>\n",
       "</div>"
      ],
      "text/plain": [
       "           dt  AverageTemperature  AverageTemperatureUncertainty Country\n",
       "0  1743-11-01               4.384                          2.294   Åland\n",
       "1  1743-12-01                 NaN                            NaN   Åland\n",
       "2  1744-01-01                 NaN                            NaN   Åland\n",
       "3  1744-02-01                 NaN                            NaN   Åland\n",
       "4  1744-03-01                 NaN                            NaN   Åland"
      ]
     },
     "execution_count": 20,
     "metadata": {},
     "output_type": "execute_result"
    }
   ],
   "source": [
    "print(country.shape)\n",
    "country.head()"
   ]
  },
  {
   "cell_type": "code",
   "execution_count": 21,
   "id": "031a3360",
   "metadata": {},
   "outputs": [
    {
     "name": "stdout",
     "output_type": "stream",
     "text": [
      "(3192, 9)\n"
     ]
    },
    {
     "data": {
      "text/html": [
       "<div>\n",
       "<style scoped>\n",
       "    .dataframe tbody tr th:only-of-type {\n",
       "        vertical-align: middle;\n",
       "    }\n",
       "\n",
       "    .dataframe tbody tr th {\n",
       "        vertical-align: top;\n",
       "    }\n",
       "\n",
       "    .dataframe thead th {\n",
       "        text-align: right;\n",
       "    }\n",
       "</style>\n",
       "<table border=\"1\" class=\"dataframe\">\n",
       "  <thead>\n",
       "    <tr style=\"text-align: right;\">\n",
       "      <th></th>\n",
       "      <th>dt</th>\n",
       "      <th>LandAverageTemperature</th>\n",
       "      <th>LandAverageTemperatureUncertainty</th>\n",
       "      <th>LandMaxTemperature</th>\n",
       "      <th>LandMaxTemperatureUncertainty</th>\n",
       "      <th>LandMinTemperature</th>\n",
       "      <th>LandMinTemperatureUncertainty</th>\n",
       "      <th>LandAndOceanAverageTemperature</th>\n",
       "      <th>LandAndOceanAverageTemperatureUncertainty</th>\n",
       "    </tr>\n",
       "  </thead>\n",
       "  <tbody>\n",
       "    <tr>\n",
       "      <th>0</th>\n",
       "      <td>1750-01-01</td>\n",
       "      <td>3.034</td>\n",
       "      <td>3.574</td>\n",
       "      <td>NaN</td>\n",
       "      <td>NaN</td>\n",
       "      <td>NaN</td>\n",
       "      <td>NaN</td>\n",
       "      <td>NaN</td>\n",
       "      <td>NaN</td>\n",
       "    </tr>\n",
       "    <tr>\n",
       "      <th>1</th>\n",
       "      <td>1750-02-01</td>\n",
       "      <td>3.083</td>\n",
       "      <td>3.702</td>\n",
       "      <td>NaN</td>\n",
       "      <td>NaN</td>\n",
       "      <td>NaN</td>\n",
       "      <td>NaN</td>\n",
       "      <td>NaN</td>\n",
       "      <td>NaN</td>\n",
       "    </tr>\n",
       "    <tr>\n",
       "      <th>2</th>\n",
       "      <td>1750-03-01</td>\n",
       "      <td>5.626</td>\n",
       "      <td>3.076</td>\n",
       "      <td>NaN</td>\n",
       "      <td>NaN</td>\n",
       "      <td>NaN</td>\n",
       "      <td>NaN</td>\n",
       "      <td>NaN</td>\n",
       "      <td>NaN</td>\n",
       "    </tr>\n",
       "    <tr>\n",
       "      <th>3</th>\n",
       "      <td>1750-04-01</td>\n",
       "      <td>8.490</td>\n",
       "      <td>2.451</td>\n",
       "      <td>NaN</td>\n",
       "      <td>NaN</td>\n",
       "      <td>NaN</td>\n",
       "      <td>NaN</td>\n",
       "      <td>NaN</td>\n",
       "      <td>NaN</td>\n",
       "    </tr>\n",
       "    <tr>\n",
       "      <th>4</th>\n",
       "      <td>1750-05-01</td>\n",
       "      <td>11.573</td>\n",
       "      <td>2.072</td>\n",
       "      <td>NaN</td>\n",
       "      <td>NaN</td>\n",
       "      <td>NaN</td>\n",
       "      <td>NaN</td>\n",
       "      <td>NaN</td>\n",
       "      <td>NaN</td>\n",
       "    </tr>\n",
       "  </tbody>\n",
       "</table>\n",
       "</div>"
      ],
      "text/plain": [
       "           dt  LandAverageTemperature  LandAverageTemperatureUncertainty  \\\n",
       "0  1750-01-01                   3.034                              3.574   \n",
       "1  1750-02-01                   3.083                              3.702   \n",
       "2  1750-03-01                   5.626                              3.076   \n",
       "3  1750-04-01                   8.490                              2.451   \n",
       "4  1750-05-01                  11.573                              2.072   \n",
       "\n",
       "   LandMaxTemperature  LandMaxTemperatureUncertainty  LandMinTemperature  \\\n",
       "0                 NaN                            NaN                 NaN   \n",
       "1                 NaN                            NaN                 NaN   \n",
       "2                 NaN                            NaN                 NaN   \n",
       "3                 NaN                            NaN                 NaN   \n",
       "4                 NaN                            NaN                 NaN   \n",
       "\n",
       "   LandMinTemperatureUncertainty  LandAndOceanAverageTemperature  \\\n",
       "0                            NaN                             NaN   \n",
       "1                            NaN                             NaN   \n",
       "2                            NaN                             NaN   \n",
       "3                            NaN                             NaN   \n",
       "4                            NaN                             NaN   \n",
       "\n",
       "   LandAndOceanAverageTemperatureUncertainty  \n",
       "0                                        NaN  \n",
       "1                                        NaN  \n",
       "2                                        NaN  \n",
       "3                                        NaN  \n",
       "4                                        NaN  "
      ]
     },
     "execution_count": 21,
     "metadata": {},
     "output_type": "execute_result"
    }
   ],
   "source": [
    "print(global_.shape)\n",
    "global_.head()"
   ]
  },
  {
   "cell_type": "markdown",
   "id": "ac5a4969",
   "metadata": {},
   "source": [
    "## Unique Countries in Dataframe city"
   ]
  },
  {
   "cell_type": "code",
   "execution_count": 22,
   "id": "f39d6e5b",
   "metadata": {},
   "outputs": [
    {
     "data": {
      "text/plain": [
       "array(['Denmark', 'Turkey', 'Kazakhstan', 'China', 'Spain', 'Germany',\n",
       "       'Nigeria', 'Iran', 'Russia', 'Canada', \"Côte D'Ivoire\",\n",
       "       'United Kingdom', 'Saudi Arabia', 'Japan', 'United States',\n",
       "       'India', 'Benin', 'United Arab Emirates', 'Mexico', 'Venezuela',\n",
       "       'Ghana', 'Ethiopia', 'Australia', 'Yemen', 'Indonesia', 'Morocco',\n",
       "       'Pakistan', 'France', 'Libya', 'Burma', 'Brazil', 'South Africa',\n",
       "       'Syria', 'Egypt', 'Algeria', 'Netherlands', 'Malaysia', 'Portugal',\n",
       "       'Ecuador', 'Italy', 'Uzbekistan', 'Philippines', 'Madagascar',\n",
       "       'Chile', 'Belgium', 'El Salvador', 'Romania', 'Peru', 'Colombia',\n",
       "       'Tanzania', 'Tunisia', 'Turkmenistan', 'Israel', 'Eritrea',\n",
       "       'Paraguay', 'Greece', 'New Zealand', 'Vietnam', 'Cameroon', 'Iraq',\n",
       "       'Afghanistan', 'Argentina', 'Azerbaijan', 'Moldova', 'Mali',\n",
       "       'Congo (Democratic Republic Of The)', 'Thailand',\n",
       "       'Central African Republic', 'Bosnia And Herzegovina', 'Bangladesh',\n",
       "       'Switzerland', 'Equatorial Guinea', 'Cuba', 'Lebanon',\n",
       "       'Mozambique', 'Serbia', 'Angola', 'Somalia', 'Norway', 'Nepal',\n",
       "       'Poland', 'Ukraine', 'Guinea Bissau', 'Malawi', 'Burkina Faso',\n",
       "       'Slovakia', 'Congo', 'Belarus', 'Gambia', 'Czech Republic',\n",
       "       'Hungary', 'Burundi', 'Zimbabwe', 'Bulgaria', 'Haiti',\n",
       "       'Puerto Rico', 'Sri Lanka', 'Nicaragua', 'Zambia', 'Honduras',\n",
       "       'Taiwan', 'Bolivia', 'Guinea', 'Ireland', 'Senegal', 'Latvia',\n",
       "       'Qatar', 'Albania', 'Tajikistan', 'Kenya', 'Guatemala', 'Finland',\n",
       "       'Sierra Leone', 'Sweden', 'Botswana', 'Guyana', 'Austria',\n",
       "       'Uganda', 'Armenia', 'Dominican Republic', 'Jordan', 'Djibouti',\n",
       "       'Sudan', 'Lithuania', 'Rwanda', 'Jamaica', 'Togo', 'Macedonia',\n",
       "       'Cyprus', 'Gabon', 'Slovenia', 'Bahrain', 'Swaziland', 'Niger',\n",
       "       'Lesotho', 'Liberia', 'Uruguay', 'Chad', 'Bahamas', 'Mauritania',\n",
       "       'Panama', 'Suriname', 'Cambodia', 'Montenegro', 'Mauritius',\n",
       "       'Papua New Guinea', 'Iceland', 'Croatia', 'Reunion', 'Oman',\n",
       "       'Costa Rica', 'South Korea', 'Hong Kong', 'Singapore', 'Estonia',\n",
       "       'Georgia', 'Mongolia', 'Laos', 'Namibia'], dtype=object)"
      ]
     },
     "execution_count": 22,
     "metadata": {},
     "output_type": "execute_result"
    }
   ],
   "source": [
    "city.Country.unique()"
   ]
  },
  {
   "cell_type": "markdown",
   "id": "7f690bf8",
   "metadata": {},
   "source": [
    "## *Creating a new dataframe India from city *"
   ]
  },
  {
   "cell_type": "code",
   "execution_count": 31,
   "id": "96a1da1b",
   "metadata": {},
   "outputs": [
    {
     "data": {
      "text/html": [
       "<div>\n",
       "<style scoped>\n",
       "    .dataframe tbody tr th:only-of-type {\n",
       "        vertical-align: middle;\n",
       "    }\n",
       "\n",
       "    .dataframe tbody tr th {\n",
       "        vertical-align: top;\n",
       "    }\n",
       "\n",
       "    .dataframe thead th {\n",
       "        text-align: right;\n",
       "    }\n",
       "</style>\n",
       "<table border=\"1\" class=\"dataframe\">\n",
       "  <thead>\n",
       "    <tr style=\"text-align: right;\">\n",
       "      <th></th>\n",
       "      <th>dt</th>\n",
       "      <th>AverageTemperature</th>\n",
       "      <th>AverageTemperatureUncertainty</th>\n",
       "      <th>City</th>\n",
       "      <th>Country</th>\n",
       "      <th>Latitude</th>\n",
       "      <th>Longitude</th>\n",
       "    </tr>\n",
       "  </thead>\n",
       "  <tbody>\n",
       "    <tr>\n",
       "      <th>49880</th>\n",
       "      <td>1816-03-01</td>\n",
       "      <td>19.934</td>\n",
       "      <td>2.258</td>\n",
       "      <td>Abohar</td>\n",
       "      <td>India</td>\n",
       "      <td>29.74N</td>\n",
       "      <td>73.85E</td>\n",
       "    </tr>\n",
       "    <tr>\n",
       "      <th>49881</th>\n",
       "      <td>1816-04-01</td>\n",
       "      <td>26.641</td>\n",
       "      <td>3.398</td>\n",
       "      <td>Abohar</td>\n",
       "      <td>India</td>\n",
       "      <td>29.74N</td>\n",
       "      <td>73.85E</td>\n",
       "    </tr>\n",
       "    <tr>\n",
       "      <th>49882</th>\n",
       "      <td>1816-05-01</td>\n",
       "      <td>32.535</td>\n",
       "      <td>2.408</td>\n",
       "      <td>Abohar</td>\n",
       "      <td>India</td>\n",
       "      <td>29.74N</td>\n",
       "      <td>73.85E</td>\n",
       "    </tr>\n",
       "    <tr>\n",
       "      <th>49883</th>\n",
       "      <td>1816-06-01</td>\n",
       "      <td>33.254</td>\n",
       "      <td>2.123</td>\n",
       "      <td>Abohar</td>\n",
       "      <td>India</td>\n",
       "      <td>29.74N</td>\n",
       "      <td>73.85E</td>\n",
       "    </tr>\n",
       "    <tr>\n",
       "      <th>49884</th>\n",
       "      <td>1816-07-01</td>\n",
       "      <td>31.105</td>\n",
       "      <td>1.848</td>\n",
       "      <td>Abohar</td>\n",
       "      <td>India</td>\n",
       "      <td>29.74N</td>\n",
       "      <td>73.85E</td>\n",
       "    </tr>\n",
       "  </tbody>\n",
       "</table>\n",
       "</div>"
      ],
      "text/plain": [
       "               dt  AverageTemperature  AverageTemperatureUncertainty    City  \\\n",
       "49880  1816-03-01              19.934                          2.258  Abohar   \n",
       "49881  1816-04-01              26.641                          3.398  Abohar   \n",
       "49882  1816-05-01              32.535                          2.408  Abohar   \n",
       "49883  1816-06-01              33.254                          2.123  Abohar   \n",
       "49884  1816-07-01              31.105                          1.848  Abohar   \n",
       "\n",
       "      Country Latitude Longitude  \n",
       "49880   India   29.74N    73.85E  \n",
       "49881   India   29.74N    73.85E  \n",
       "49882   India   29.74N    73.85E  \n",
       "49883   India   29.74N    73.85E  \n",
       "49884   India   29.74N    73.85E  "
      ]
     },
     "execution_count": 31,
     "metadata": {},
     "output_type": "execute_result"
    }
   ],
   "source": [
    "india = city[city.Country == 'India']\n",
    "india.head()"
   ]
  },
  {
   "cell_type": "markdown",
   "id": "adbd67bc",
   "metadata": {},
   "source": [
    "## Data Aggregated per Month¶\n",
    "Mean temperatures in Indian cities by month"
   ]
  },
  {
   "cell_type": "code",
   "execution_count": 33,
   "id": "3405e67c",
   "metadata": {},
   "outputs": [
    {
     "data": {
      "text/html": [
       "<div>\n",
       "<style scoped>\n",
       "    .dataframe tbody tr th:only-of-type {\n",
       "        vertical-align: middle;\n",
       "    }\n",
       "\n",
       "    .dataframe tbody tr th {\n",
       "        vertical-align: top;\n",
       "    }\n",
       "\n",
       "    .dataframe thead th {\n",
       "        text-align: right;\n",
       "    }\n",
       "</style>\n",
       "<table border=\"1\" class=\"dataframe\">\n",
       "  <thead>\n",
       "    <tr style=\"text-align: right;\">\n",
       "      <th></th>\n",
       "      <th>AverageTemperature</th>\n",
       "      <th>AverageTemperatureUncertainty</th>\n",
       "      <th>City</th>\n",
       "      <th>Country</th>\n",
       "      <th>Latitude</th>\n",
       "      <th>Longitude</th>\n",
       "    </tr>\n",
       "    <tr>\n",
       "      <th>dt</th>\n",
       "      <th></th>\n",
       "      <th></th>\n",
       "      <th></th>\n",
       "      <th></th>\n",
       "      <th></th>\n",
       "      <th></th>\n",
       "    </tr>\n",
       "  </thead>\n",
       "  <tbody>\n",
       "    <tr>\n",
       "      <th>1816-03-01</th>\n",
       "      <td>19.934</td>\n",
       "      <td>2.258</td>\n",
       "      <td>Abohar</td>\n",
       "      <td>India</td>\n",
       "      <td>29.74N</td>\n",
       "      <td>73.85E</td>\n",
       "    </tr>\n",
       "    <tr>\n",
       "      <th>1816-04-01</th>\n",
       "      <td>26.641</td>\n",
       "      <td>3.398</td>\n",
       "      <td>Abohar</td>\n",
       "      <td>India</td>\n",
       "      <td>29.74N</td>\n",
       "      <td>73.85E</td>\n",
       "    </tr>\n",
       "    <tr>\n",
       "      <th>1816-05-01</th>\n",
       "      <td>32.535</td>\n",
       "      <td>2.408</td>\n",
       "      <td>Abohar</td>\n",
       "      <td>India</td>\n",
       "      <td>29.74N</td>\n",
       "      <td>73.85E</td>\n",
       "    </tr>\n",
       "    <tr>\n",
       "      <th>1816-06-01</th>\n",
       "      <td>33.254</td>\n",
       "      <td>2.123</td>\n",
       "      <td>Abohar</td>\n",
       "      <td>India</td>\n",
       "      <td>29.74N</td>\n",
       "      <td>73.85E</td>\n",
       "    </tr>\n",
       "    <tr>\n",
       "      <th>1816-07-01</th>\n",
       "      <td>31.105</td>\n",
       "      <td>1.848</td>\n",
       "      <td>Abohar</td>\n",
       "      <td>India</td>\n",
       "      <td>29.74N</td>\n",
       "      <td>73.85E</td>\n",
       "    </tr>\n",
       "  </tbody>\n",
       "</table>\n",
       "</div>"
      ],
      "text/plain": [
       "            AverageTemperature  AverageTemperatureUncertainty    City Country  \\\n",
       "dt                                                                              \n",
       "1816-03-01              19.934                          2.258  Abohar   India   \n",
       "1816-04-01              26.641                          3.398  Abohar   India   \n",
       "1816-05-01              32.535                          2.408  Abohar   India   \n",
       "1816-06-01              33.254                          2.123  Abohar   India   \n",
       "1816-07-01              31.105                          1.848  Abohar   India   \n",
       "\n",
       "           Latitude Longitude  \n",
       "dt                             \n",
       "1816-03-01   29.74N    73.85E  \n",
       "1816-04-01   29.74N    73.85E  \n",
       "1816-05-01   29.74N    73.85E  \n",
       "1816-06-01   29.74N    73.85E  \n",
       "1816-07-01   29.74N    73.85E  "
      ]
     },
     "execution_count": 33,
     "metadata": {},
     "output_type": "execute_result"
    }
   ],
   "source": [
    "india=india.set_index('dt')\n",
    "india.head()"
   ]
  },
  {
   "cell_type": "code",
   "execution_count": 37,
   "id": "62edf211",
   "metadata": {
    "scrolled": true
   },
   "outputs": [],
   "source": [
    "#india.index=pd.to_datetime(india.index)\n",
    "#india.index.dtype\n"
   ]
  },
  {
   "cell_type": "markdown",
   "id": "cb11a452",
   "metadata": {},
   "source": [
    "### Monthly Mean Temp. of India"
   ]
  },
  {
   "cell_type": "code",
   "execution_count": 40,
   "id": "c4040b44",
   "metadata": {},
   "outputs": [
    {
     "data": {
      "text/html": [
       "<div>\n",
       "<style scoped>\n",
       "    .dataframe tbody tr th:only-of-type {\n",
       "        vertical-align: middle;\n",
       "    }\n",
       "\n",
       "    .dataframe tbody tr th {\n",
       "        vertical-align: top;\n",
       "    }\n",
       "\n",
       "    .dataframe thead th {\n",
       "        text-align: right;\n",
       "    }\n",
       "</style>\n",
       "<table border=\"1\" class=\"dataframe\">\n",
       "  <thead>\n",
       "    <tr style=\"text-align: right;\">\n",
       "      <th></th>\n",
       "      <th>Month</th>\n",
       "      <th>City</th>\n",
       "      <th>AverageTemperature</th>\n",
       "    </tr>\n",
       "  </thead>\n",
       "  <tbody>\n",
       "    <tr>\n",
       "      <th>0</th>\n",
       "      <td>1</td>\n",
       "      <td>Abohar</td>\n",
       "      <td>12.430848</td>\n",
       "    </tr>\n",
       "    <tr>\n",
       "      <th>1</th>\n",
       "      <td>1</td>\n",
       "      <td>Achalpur</td>\n",
       "      <td>19.482748</td>\n",
       "    </tr>\n",
       "    <tr>\n",
       "      <th>2</th>\n",
       "      <td>1</td>\n",
       "      <td>Adilabad</td>\n",
       "      <td>21.799743</td>\n",
       "    </tr>\n",
       "    <tr>\n",
       "      <th>3</th>\n",
       "      <td>1</td>\n",
       "      <td>Adoni</td>\n",
       "      <td>23.679643</td>\n",
       "    </tr>\n",
       "    <tr>\n",
       "      <th>4</th>\n",
       "      <td>1</td>\n",
       "      <td>Agartala</td>\n",
       "      <td>17.918505</td>\n",
       "    </tr>\n",
       "  </tbody>\n",
       "</table>\n",
       "</div>"
      ],
      "text/plain": [
       "   Month      City  AverageTemperature\n",
       "0      1    Abohar           12.430848\n",
       "1      1  Achalpur           19.482748\n",
       "2      1  Adilabad           21.799743\n",
       "3      1     Adoni           23.679643\n",
       "4      1  Agartala           17.918505"
      ]
     },
     "execution_count": 40,
     "metadata": {},
     "output_type": "execute_result"
    }
   ],
   "source": [
    "mean_monthly=india.groupby([india.index.month.rename('Month'),india.City])['AverageTemperature'].mean().reset_index()\n",
    "mean_monthly.head()"
   ]
  },
  {
   "cell_type": "markdown",
   "id": "510a4862",
   "metadata": {},
   "source": [
    "### Plotting the graph for top_cities of India"
   ]
  },
  {
   "cell_type": "code",
   "execution_count": 42,
   "id": "c3197b12",
   "metadata": {},
   "outputs": [
    {
     "data": {
      "text/html": [
       "<div>\n",
       "<style scoped>\n",
       "    .dataframe tbody tr th:only-of-type {\n",
       "        vertical-align: middle;\n",
       "    }\n",
       "\n",
       "    .dataframe tbody tr th {\n",
       "        vertical-align: top;\n",
       "    }\n",
       "\n",
       "    .dataframe thead th {\n",
       "        text-align: right;\n",
       "    }\n",
       "</style>\n",
       "<table border=\"1\" class=\"dataframe\">\n",
       "  <thead>\n",
       "    <tr style=\"text-align: right;\">\n",
       "      <th></th>\n",
       "      <th>City</th>\n",
       "      <th>AverageTemperature</th>\n",
       "    </tr>\n",
       "    <tr>\n",
       "      <th>Month</th>\n",
       "      <th></th>\n",
       "      <th></th>\n",
       "    </tr>\n",
       "  </thead>\n",
       "  <tbody>\n",
       "    <tr>\n",
       "      <th>1</th>\n",
       "      <td>Ahmadabad</td>\n",
       "      <td>19.411853</td>\n",
       "    </tr>\n",
       "    <tr>\n",
       "      <th>1</th>\n",
       "      <td>Bombay</td>\n",
       "      <td>24.192095</td>\n",
       "    </tr>\n",
       "    <tr>\n",
       "      <th>1</th>\n",
       "      <td>Calcutta</td>\n",
       "      <td>18.534335</td>\n",
       "    </tr>\n",
       "    <tr>\n",
       "      <th>1</th>\n",
       "      <td>Madras</td>\n",
       "      <td>24.346733</td>\n",
       "    </tr>\n",
       "    <tr>\n",
       "      <th>1</th>\n",
       "      <td>New Delhi</td>\n",
       "      <td>14.238560</td>\n",
       "    </tr>\n",
       "  </tbody>\n",
       "</table>\n",
       "</div>"
      ],
      "text/plain": [
       "            City  AverageTemperature\n",
       "Month                               \n",
       "1      Ahmadabad           19.411853\n",
       "1         Bombay           24.192095\n",
       "1       Calcutta           18.534335\n",
       "1         Madras           24.346733\n",
       "1      New Delhi           14.238560"
      ]
     },
     "execution_count": 42,
     "metadata": {},
     "output_type": "execute_result"
    }
   ],
   "source": [
    "top_cities=mean_monthly[mean_monthly.City.isin(['Ahmadabad', 'Calcutta', 'Madras','New Delhi', 'Bombay', 'Srinagar'])]\n",
    "top_cities = top_cities.set_index('Month')\n",
    "top_cities.head()"
   ]
  },
  {
   "cell_type": "code",
   "execution_count": 44,
   "id": "fd2a87e3",
   "metadata": {},
   "outputs": [
    {
     "data": {
      "image/png": "[encoded data removed]",
      "text/plain": [
       "<Figure size 864x360 with 1 Axes>"
      ]
     },
     "metadata": {
      "needs_background": "light"
     },
     "output_type": "display_data"
    }
   ],
   "source": [
    "top_cities.plot(figsize=(12,5))\n",
    "plt.title('Monthly Mena Temp. Of  Top Cities ')\n",
    "plt.ylabel('Average Temp.')\n",
    "plt.grid(True)"
   ]
  },
  {
   "cell_type": "markdown",
   "id": "7e760999",
   "metadata": {},
   "source": [
    "### Data Aggregated per Year¶\n",
    "Mean temperatures in Indian cities by Year"
   ]
  },
  {
   "cell_type": "code",
   "execution_count": 45,
   "id": "965b6d93",
   "metadata": {},
   "outputs": [
    {
     "data": {
      "text/html": [
       "<div>\n",
       "<style scoped>\n",
       "    .dataframe tbody tr th:only-of-type {\n",
       "        vertical-align: middle;\n",
       "    }\n",
       "\n",
       "    .dataframe tbody tr th {\n",
       "        vertical-align: top;\n",
       "    }\n",
       "\n",
       "    .dataframe thead th {\n",
       "        text-align: right;\n",
       "    }\n",
       "</style>\n",
       "<table border=\"1\" class=\"dataframe\">\n",
       "  <thead>\n",
       "    <tr style=\"text-align: right;\">\n",
       "      <th></th>\n",
       "      <th>Year</th>\n",
       "      <th>City</th>\n",
       "      <th>AverageTemperature</th>\n",
       "    </tr>\n",
       "  </thead>\n",
       "  <tbody>\n",
       "    <tr>\n",
       "      <th>0</th>\n",
       "      <td>1796</td>\n",
       "      <td>Achalpur</td>\n",
       "      <td>25.608000</td>\n",
       "    </tr>\n",
       "    <tr>\n",
       "      <th>1</th>\n",
       "      <td>1796</td>\n",
       "      <td>Adilabad</td>\n",
       "      <td>26.951833</td>\n",
       "    </tr>\n",
       "    <tr>\n",
       "      <th>2</th>\n",
       "      <td>1796</td>\n",
       "      <td>Adoni</td>\n",
       "      <td>26.904417</td>\n",
       "    </tr>\n",
       "    <tr>\n",
       "      <th>3</th>\n",
       "      <td>1796</td>\n",
       "      <td>Agartala</td>\n",
       "      <td>24.787333</td>\n",
       "    </tr>\n",
       "    <tr>\n",
       "      <th>4</th>\n",
       "      <td>1796</td>\n",
       "      <td>Agra</td>\n",
       "      <td>25.050833</td>\n",
       "    </tr>\n",
       "    <tr>\n",
       "      <th>5</th>\n",
       "      <td>1796</td>\n",
       "      <td>Ahmadabad</td>\n",
       "      <td>26.350917</td>\n",
       "    </tr>\n",
       "    <tr>\n",
       "      <th>6</th>\n",
       "      <td>1796</td>\n",
       "      <td>Ahmadnagar</td>\n",
       "      <td>24.390583</td>\n",
       "    </tr>\n",
       "    <tr>\n",
       "      <th>7</th>\n",
       "      <td>1796</td>\n",
       "      <td>Aizawl</td>\n",
       "      <td>22.707583</td>\n",
       "    </tr>\n",
       "    <tr>\n",
       "      <th>8</th>\n",
       "      <td>1796</td>\n",
       "      <td>Ajmer</td>\n",
       "      <td>25.247917</td>\n",
       "    </tr>\n",
       "    <tr>\n",
       "      <th>9</th>\n",
       "      <td>1796</td>\n",
       "      <td>Akola</td>\n",
       "      <td>26.314167</td>\n",
       "    </tr>\n",
       "  </tbody>\n",
       "</table>\n",
       "</div>"
      ],
      "text/plain": [
       "   Year        City  AverageTemperature\n",
       "0  1796    Achalpur           25.608000\n",
       "1  1796    Adilabad           26.951833\n",
       "2  1796       Adoni           26.904417\n",
       "3  1796    Agartala           24.787333\n",
       "4  1796        Agra           25.050833\n",
       "5  1796   Ahmadabad           26.350917\n",
       "6  1796  Ahmadnagar           24.390583\n",
       "7  1796      Aizawl           22.707583\n",
       "8  1796       Ajmer           25.247917\n",
       "9  1796       Akola           26.314167"
      ]
     },
     "execution_count": 45,
     "metadata": {},
     "output_type": "execute_result"
    }
   ],
   "source": [
    "mean_yearly=india.groupby([india.index.year.rename('Year'),india.City])['AverageTemperature'].mean().reset_index()\n",
    "mean_yearly.head(10)"
   ]
  },
  {
   "cell_type": "markdown",
   "id": "9856a940",
   "metadata": {},
   "source": [
    "### Plotting the graph for top_cities of India¶"
   ]
  },
  {
   "cell_type": "code",
   "execution_count": 46,
   "id": "d6bc538c",
   "metadata": {},
   "outputs": [
    {
     "data": {
      "text/html": [
       "<div>\n",
       "<style scoped>\n",
       "    .dataframe tbody tr th:only-of-type {\n",
       "        vertical-align: middle;\n",
       "    }\n",
       "\n",
       "    .dataframe tbody tr th {\n",
       "        vertical-align: top;\n",
       "    }\n",
       "\n",
       "    .dataframe thead th {\n",
       "        text-align: right;\n",
       "    }\n",
       "</style>\n",
       "<table border=\"1\" class=\"dataframe\">\n",
       "  <thead>\n",
       "    <tr style=\"text-align: right;\">\n",
       "      <th></th>\n",
       "      <th>City</th>\n",
       "      <th>AverageTemperature</th>\n",
       "    </tr>\n",
       "    <tr>\n",
       "      <th>Year</th>\n",
       "      <th></th>\n",
       "      <th></th>\n",
       "    </tr>\n",
       "  </thead>\n",
       "  <tbody>\n",
       "    <tr>\n",
       "      <th>1796</th>\n",
       "      <td>Ahmadabad</td>\n",
       "      <td>26.350917</td>\n",
       "    </tr>\n",
       "    <tr>\n",
       "      <th>1796</th>\n",
       "      <td>Bombay</td>\n",
       "      <td>26.397833</td>\n",
       "    </tr>\n",
       "    <tr>\n",
       "      <th>1796</th>\n",
       "      <td>Calcutta</td>\n",
       "      <td>25.886250</td>\n",
       "    </tr>\n",
       "    <tr>\n",
       "      <th>1796</th>\n",
       "      <td>Madras</td>\n",
       "      <td>27.991833</td>\n",
       "    </tr>\n",
       "    <tr>\n",
       "      <th>1796</th>\n",
       "      <td>New Delhi</td>\n",
       "      <td>25.030250</td>\n",
       "    </tr>\n",
       "  </tbody>\n",
       "</table>\n",
       "</div>"
      ],
      "text/plain": [
       "           City  AverageTemperature\n",
       "Year                               \n",
       "1796  Ahmadabad           26.350917\n",
       "1796     Bombay           26.397833\n",
       "1796   Calcutta           25.886250\n",
       "1796     Madras           27.991833\n",
       "1796  New Delhi           25.030250"
      ]
     },
     "execution_count": 46,
     "metadata": {},
     "output_type": "execute_result"
    }
   ],
   "source": [
    "top_cities_yearly = mean_yearly[mean_yearly.City.isin(['Ahmadabad', 'Calcutta', 'Madras','New Delhi', 'Bombay', 'Srinagar'])]\n",
    "top_cities_yearly = top_cities_yearly.set_index('Year')\n",
    "top_cities_yearly.head()"
   ]
  },
  {
   "cell_type": "code",
   "execution_count": 48,
   "id": "d897893b",
   "metadata": {},
   "outputs": [
    {
     "data": {
      "image/png": "[encoded data removed]",
      "text/plain": [
       "<Figure size 864x360 with 1 Axes>"
      ]
     },
     "metadata": {
      "needs_background": "light"
     },
     "output_type": "display_data"
    }
   ],
   "source": [
    "top_cities_yearly.plot(color ='blue',figsize=(12,5))\n",
    "plt.title('Yearly Mean Temp. of Top Cities')\n",
    "plt.ylabel('Average Temp.')\n",
    "plt.grid(True)"
   ]
  },
  {
   "cell_type": "markdown",
   "id": "215b4864",
   "metadata": {},
   "source": [
    "### Handling missing data\n",
    "The dataframe India_mean_temperature_yearly has many NaN values in the column AverageTemperature. That leads the the plot with broken lines."
   ]
  },
  {
   "cell_type": "code",
   "execution_count": 50,
   "id": "d33d8eef",
   "metadata": {},
   "outputs": [
    {
     "data": {
      "text/html": [
       "<div>\n",
       "<style scoped>\n",
       "    .dataframe tbody tr th:only-of-type {\n",
       "        vertical-align: middle;\n",
       "    }\n",
       "\n",
       "    .dataframe tbody tr th {\n",
       "        vertical-align: top;\n",
       "    }\n",
       "\n",
       "    .dataframe thead th {\n",
       "        text-align: right;\n",
       "    }\n",
       "</style>\n",
       "<table border=\"1\" class=\"dataframe\">\n",
       "  <thead>\n",
       "    <tr style=\"text-align: right;\">\n",
       "      <th></th>\n",
       "      <th>City</th>\n",
       "      <th>AverageTemperature</th>\n",
       "    </tr>\n",
       "    <tr>\n",
       "      <th>Year</th>\n",
       "      <th></th>\n",
       "      <th></th>\n",
       "    </tr>\n",
       "  </thead>\n",
       "  <tbody>\n",
       "    <tr>\n",
       "      <th>2013</th>\n",
       "      <td>Bombay</td>\n",
       "      <td>26.71300</td>\n",
       "    </tr>\n",
       "    <tr>\n",
       "      <th>2013</th>\n",
       "      <td>Calcutta</td>\n",
       "      <td>27.36925</td>\n",
       "    </tr>\n",
       "    <tr>\n",
       "      <th>2013</th>\n",
       "      <td>Madras</td>\n",
       "      <td>30.41175</td>\n",
       "    </tr>\n",
       "    <tr>\n",
       "      <th>2013</th>\n",
       "      <td>New Delhi</td>\n",
       "      <td>26.70925</td>\n",
       "    </tr>\n",
       "    <tr>\n",
       "      <th>2013</th>\n",
       "      <td>Srinagar</td>\n",
       "      <td>11.63975</td>\n",
       "    </tr>\n",
       "  </tbody>\n",
       "</table>\n",
       "</div>"
      ],
      "text/plain": [
       "           City  AverageTemperature\n",
       "Year                               \n",
       "2013     Bombay            26.71300\n",
       "2013   Calcutta            27.36925\n",
       "2013     Madras            30.41175\n",
       "2013  New Delhi            26.70925\n",
       "2013   Srinagar            11.63975"
      ]
     },
     "execution_count": 50,
     "metadata": {},
     "output_type": "execute_result"
    }
   ],
   "source": [
    "top_cities_yearly=top_cities_yearly.fillna(top_cities_yearly.mean())\n",
    "top_cities_yearly.tail()"
   ]
  },
  {
   "cell_type": "code",
   "execution_count": 52,
   "id": "39cea09f",
   "metadata": {},
   "outputs": [
    {
     "data": {
      "image/png": "[encoded data removed]",
      "text/plain": [
       "<Figure size 864x360 with 1 Axes>"
      ]
     },
     "metadata": {
      "needs_background": "light"
     },
     "output_type": "display_data"
    }
   ],
   "source": [
    "top_cities_yearly.plot(color = 'green',figsize =(12,5))\n",
    "plt.title('Yearly Mean Temperature of Top Cities')\n",
    "plt.ylabel(\"Average Temperature\")\n",
    "plt.grid(True)"
   ]
  },
  {
   "cell_type": "markdown",
   "id": "4ac776ed",
   "metadata": {},
   "source": [
    "### Trend in Global Temperature"
   ]
  },
  {
   "cell_type": "code",
   "execution_count": 58,
   "id": "6bcf855e",
   "metadata": {},
   "outputs": [
    {
     "data": {
      "text/html": [
       "<div>\n",
       "<style scoped>\n",
       "    .dataframe tbody tr th:only-of-type {\n",
       "        vertical-align: middle;\n",
       "    }\n",
       "\n",
       "    .dataframe tbody tr th {\n",
       "        vertical-align: top;\n",
       "    }\n",
       "\n",
       "    .dataframe thead th {\n",
       "        text-align: right;\n",
       "    }\n",
       "</style>\n",
       "<table border=\"1\" class=\"dataframe\">\n",
       "  <thead>\n",
       "    <tr style=\"text-align: right;\">\n",
       "      <th></th>\n",
       "      <th>LandAverageTemperature</th>\n",
       "      <th>LandAverageTemperatureUncertainty</th>\n",
       "      <th>LandMaxTemperature</th>\n",
       "      <th>LandMaxTemperatureUncertainty</th>\n",
       "      <th>LandMinTemperature</th>\n",
       "      <th>LandMinTemperatureUncertainty</th>\n",
       "      <th>LandAndOceanAverageTemperature</th>\n",
       "      <th>LandAndOceanAverageTemperatureUncertainty</th>\n",
       "    </tr>\n",
       "    <tr>\n",
       "      <th>dt</th>\n",
       "      <th></th>\n",
       "      <th></th>\n",
       "      <th></th>\n",
       "      <th></th>\n",
       "      <th></th>\n",
       "      <th></th>\n",
       "      <th></th>\n",
       "      <th></th>\n",
       "    </tr>\n",
       "  </thead>\n",
       "  <tbody>\n",
       "    <tr>\n",
       "      <th>1750-12-31</th>\n",
       "      <td>8.719364</td>\n",
       "      <td>2.637818</td>\n",
       "      <td>NaN</td>\n",
       "      <td>NaN</td>\n",
       "      <td>NaN</td>\n",
       "      <td>NaN</td>\n",
       "      <td>NaN</td>\n",
       "      <td>NaN</td>\n",
       "    </tr>\n",
       "    <tr>\n",
       "      <th>1751-12-31</th>\n",
       "      <td>7.976143</td>\n",
       "      <td>2.781143</td>\n",
       "      <td>NaN</td>\n",
       "      <td>NaN</td>\n",
       "      <td>NaN</td>\n",
       "      <td>NaN</td>\n",
       "      <td>NaN</td>\n",
       "      <td>NaN</td>\n",
       "    </tr>\n",
       "    <tr>\n",
       "      <th>1752-12-31</th>\n",
       "      <td>5.779833</td>\n",
       "      <td>2.977000</td>\n",
       "      <td>NaN</td>\n",
       "      <td>NaN</td>\n",
       "      <td>NaN</td>\n",
       "      <td>NaN</td>\n",
       "      <td>NaN</td>\n",
       "      <td>NaN</td>\n",
       "    </tr>\n",
       "    <tr>\n",
       "      <th>1753-12-31</th>\n",
       "      <td>8.388083</td>\n",
       "      <td>3.176000</td>\n",
       "      <td>NaN</td>\n",
       "      <td>NaN</td>\n",
       "      <td>NaN</td>\n",
       "      <td>NaN</td>\n",
       "      <td>NaN</td>\n",
       "      <td>NaN</td>\n",
       "    </tr>\n",
       "    <tr>\n",
       "      <th>1754-12-31</th>\n",
       "      <td>8.469333</td>\n",
       "      <td>3.494250</td>\n",
       "      <td>NaN</td>\n",
       "      <td>NaN</td>\n",
       "      <td>NaN</td>\n",
       "      <td>NaN</td>\n",
       "      <td>NaN</td>\n",
       "      <td>NaN</td>\n",
       "    </tr>\n",
       "  </tbody>\n",
       "</table>\n",
       "</div>"
      ],
      "text/plain": [
       "            LandAverageTemperature  LandAverageTemperatureUncertainty  \\\n",
       "dt                                                                      \n",
       "1750-12-31                8.719364                           2.637818   \n",
       "1751-12-31                7.976143                           2.781143   \n",
       "1752-12-31                5.779833                           2.977000   \n",
       "1753-12-31                8.388083                           3.176000   \n",
       "1754-12-31                8.469333                           3.494250   \n",
       "\n",
       "            LandMaxTemperature  LandMaxTemperatureUncertainty  \\\n",
       "dt                                                              \n",
       "1750-12-31                 NaN                            NaN   \n",
       "1751-12-31                 NaN                            NaN   \n",
       "1752-12-31                 NaN                            NaN   \n",
       "1753-12-31                 NaN                            NaN   \n",
       "1754-12-31                 NaN                            NaN   \n",
       "\n",
       "            LandMinTemperature  LandMinTemperatureUncertainty  \\\n",
       "dt                                                              \n",
       "1750-12-31                 NaN                            NaN   \n",
       "1751-12-31                 NaN                            NaN   \n",
       "1752-12-31                 NaN                            NaN   \n",
       "1753-12-31                 NaN                            NaN   \n",
       "1754-12-31                 NaN                            NaN   \n",
       "\n",
       "            LandAndOceanAverageTemperature  \\\n",
       "dt                                           \n",
       "1750-12-31                             NaN   \n",
       "1751-12-31                             NaN   \n",
       "1752-12-31                             NaN   \n",
       "1753-12-31                             NaN   \n",
       "1754-12-31                             NaN   \n",
       "\n",
       "            LandAndOceanAverageTemperatureUncertainty  \n",
       "dt                                                     \n",
       "1750-12-31                                        NaN  \n",
       "1751-12-31                                        NaN  \n",
       "1752-12-31                                        NaN  \n",
       "1753-12-31                                        NaN  \n",
       "1754-12-31                                        NaN  "
      ]
     },
     "execution_count": 58,
     "metadata": {},
     "output_type": "execute_result"
    }
   ],
   "source": [
    "global_=global_.set_index('dt')\n",
    "global_.index=pd.to_datetime(global_.index)\n",
    "global_ =global_.resample('A').mean()\n",
    "global_.head()"
   ]
  },
  {
   "cell_type": "code",
   "execution_count": 60,
   "id": "c6753071",
   "metadata": {},
   "outputs": [
    {
     "data": {
      "image/png": "[encoded data removed]",
      "text/plain": [
       "<Figure size 864x360 with 1 Axes>"
      ]
     },
     "metadata": {
      "needs_background": "light"
     },
     "output_type": "display_data"
    }
   ],
   "source": [
    "x = global_.loc[:,['LandAverageTemperature']]\n",
    "x.plot(figsize =(12,5))\n",
    "plt.title('Global Temperature')\n",
    "plt.xlabel(\"Year --->\")\n",
    "plt.ylabel(\"Temperature --->\")\n",
    "plt.grid(True)"
   ]
  },
  {
   "cell_type": "markdown",
   "id": "8956b785",
   "metadata": {},
   "source": [
    "#### The global mean temperature graph is definitely showing an upward trend. We can use the dataframe country to further evaluate whether the upward trend is uniform or contributed by some selected countries."
   ]
  },
  {
   "cell_type": "markdown",
   "id": "e682494b",
   "metadata": {},
   "source": [
    "## Countries with Minimum and Maximum temperature difference over years"
   ]
  },
  {
   "cell_type": "code",
   "execution_count": 62,
   "id": "741be86a",
   "metadata": {},
   "outputs": [
    {
     "data": {
      "text/html": [
       "<div>\n",
       "<style scoped>\n",
       "    .dataframe tbody tr th:only-of-type {\n",
       "        vertical-align: middle;\n",
       "    }\n",
       "\n",
       "    .dataframe tbody tr th {\n",
       "        vertical-align: top;\n",
       "    }\n",
       "\n",
       "    .dataframe thead th {\n",
       "        text-align: right;\n",
       "    }\n",
       "</style>\n",
       "<table border=\"1\" class=\"dataframe\">\n",
       "  <thead>\n",
       "    <tr style=\"text-align: right;\">\n",
       "      <th></th>\n",
       "      <th>AverageTemperature</th>\n",
       "      <th>AverageTemperatureUncertainty</th>\n",
       "      <th>Country</th>\n",
       "    </tr>\n",
       "    <tr>\n",
       "      <th>dt</th>\n",
       "      <th></th>\n",
       "      <th></th>\n",
       "      <th></th>\n",
       "    </tr>\n",
       "  </thead>\n",
       "  <tbody>\n",
       "    <tr>\n",
       "      <th>1743-11-01</th>\n",
       "      <td>4.384</td>\n",
       "      <td>2.294</td>\n",
       "      <td>Åland</td>\n",
       "    </tr>\n",
       "    <tr>\n",
       "      <th>1743-12-01</th>\n",
       "      <td>NaN</td>\n",
       "      <td>NaN</td>\n",
       "      <td>Åland</td>\n",
       "    </tr>\n",
       "    <tr>\n",
       "      <th>1744-01-01</th>\n",
       "      <td>NaN</td>\n",
       "      <td>NaN</td>\n",
       "      <td>Åland</td>\n",
       "    </tr>\n",
       "    <tr>\n",
       "      <th>1744-02-01</th>\n",
       "      <td>NaN</td>\n",
       "      <td>NaN</td>\n",
       "      <td>Åland</td>\n",
       "    </tr>\n",
       "    <tr>\n",
       "      <th>1744-03-01</th>\n",
       "      <td>NaN</td>\n",
       "      <td>NaN</td>\n",
       "      <td>Åland</td>\n",
       "    </tr>\n",
       "  </tbody>\n",
       "</table>\n",
       "</div>"
      ],
      "text/plain": [
       "            AverageTemperature  AverageTemperatureUncertainty Country\n",
       "dt                                                                   \n",
       "1743-11-01               4.384                          2.294   Åland\n",
       "1743-12-01                 NaN                            NaN   Åland\n",
       "1744-01-01                 NaN                            NaN   Åland\n",
       "1744-02-01                 NaN                            NaN   Åland\n",
       "1744-03-01                 NaN                            NaN   Åland"
      ]
     },
     "execution_count": 62,
     "metadata": {},
     "output_type": "execute_result"
    }
   ],
   "source": [
    "country=country.set_index('dt')\n",
    "country.index=pd.to_datetime(country.index)\n",
    "country.head()"
   ]
  },
  {
   "cell_type": "code",
   "execution_count": 63,
   "id": "386a0b66",
   "metadata": {},
   "outputs": [
    {
     "data": {
      "text/html": [
       "<div>\n",
       "<style scoped>\n",
       "    .dataframe tbody tr th:only-of-type {\n",
       "        vertical-align: middle;\n",
       "    }\n",
       "\n",
       "    .dataframe tbody tr th {\n",
       "        vertical-align: top;\n",
       "    }\n",
       "\n",
       "    .dataframe thead th {\n",
       "        text-align: right;\n",
       "    }\n",
       "</style>\n",
       "<table border=\"1\" class=\"dataframe\">\n",
       "  <thead>\n",
       "    <tr style=\"text-align: right;\">\n",
       "      <th></th>\n",
       "      <th>Year</th>\n",
       "      <th>Country</th>\n",
       "      <th>AverageTemperature</th>\n",
       "    </tr>\n",
       "  </thead>\n",
       "  <tbody>\n",
       "    <tr>\n",
       "      <th>0</th>\n",
       "      <td>1743</td>\n",
       "      <td>Albania</td>\n",
       "      <td>8.620</td>\n",
       "    </tr>\n",
       "    <tr>\n",
       "      <th>1</th>\n",
       "      <td>1743</td>\n",
       "      <td>Andorra</td>\n",
       "      <td>7.556</td>\n",
       "    </tr>\n",
       "    <tr>\n",
       "      <th>2</th>\n",
       "      <td>1743</td>\n",
       "      <td>Austria</td>\n",
       "      <td>2.482</td>\n",
       "    </tr>\n",
       "    <tr>\n",
       "      <th>3</th>\n",
       "      <td>1743</td>\n",
       "      <td>Belarus</td>\n",
       "      <td>0.767</td>\n",
       "    </tr>\n",
       "    <tr>\n",
       "      <th>4</th>\n",
       "      <td>1743</td>\n",
       "      <td>Belgium</td>\n",
       "      <td>7.106</td>\n",
       "    </tr>\n",
       "  </tbody>\n",
       "</table>\n",
       "</div>"
      ],
      "text/plain": [
       "   Year  Country  AverageTemperature\n",
       "0  1743  Albania               8.620\n",
       "1  1743  Andorra               7.556\n",
       "2  1743  Austria               2.482\n",
       "3  1743  Belarus               0.767\n",
       "4  1743  Belgium               7.106"
      ]
     },
     "execution_count": 63,
     "metadata": {},
     "output_type": "execute_result"
    }
   ],
   "source": [
    "country_diff=country.groupby([country.index.year.rename('Year'),'Country']).AverageTemperature.mean().reset_index()\n",
    "country_diff.head()"
   ]
  },
  {
   "cell_type": "code",
   "execution_count": 64,
   "id": "ce51dcef",
   "metadata": {},
   "outputs": [
    {
     "data": {
      "text/html": [
       "<div>\n",
       "<style scoped>\n",
       "    .dataframe tbody tr th:only-of-type {\n",
       "        vertical-align: middle;\n",
       "    }\n",
       "\n",
       "    .dataframe tbody tr th {\n",
       "        vertical-align: top;\n",
       "    }\n",
       "\n",
       "    .dataframe thead th {\n",
       "        text-align: right;\n",
       "    }\n",
       "</style>\n",
       "<table border=\"1\" class=\"dataframe\">\n",
       "  <thead>\n",
       "    <tr style=\"text-align: right;\">\n",
       "      <th></th>\n",
       "      <th>Country</th>\n",
       "      <th>max</th>\n",
       "      <th>min</th>\n",
       "      <th>diff</th>\n",
       "    </tr>\n",
       "  </thead>\n",
       "  <tbody>\n",
       "    <tr>\n",
       "      <th>0</th>\n",
       "      <td>Afghanistan</td>\n",
       "      <td>18.379571</td>\n",
       "      <td>12.547167</td>\n",
       "      <td>5.832405</td>\n",
       "    </tr>\n",
       "    <tr>\n",
       "      <th>1</th>\n",
       "      <td>Africa</td>\n",
       "      <td>25.472500</td>\n",
       "      <td>23.036000</td>\n",
       "      <td>2.436500</td>\n",
       "    </tr>\n",
       "    <tr>\n",
       "      <th>2</th>\n",
       "      <td>Albania</td>\n",
       "      <td>14.993875</td>\n",
       "      <td>5.588250</td>\n",
       "      <td>9.405625</td>\n",
       "    </tr>\n",
       "    <tr>\n",
       "      <th>3</th>\n",
       "      <td>Algeria</td>\n",
       "      <td>25.215667</td>\n",
       "      <td>10.343000</td>\n",
       "      <td>14.872667</td>\n",
       "    </tr>\n",
       "    <tr>\n",
       "      <th>4</th>\n",
       "      <td>American Samoa</td>\n",
       "      <td>27.537917</td>\n",
       "      <td>25.667167</td>\n",
       "      <td>1.870750</td>\n",
       "    </tr>\n",
       "  </tbody>\n",
       "</table>\n",
       "</div>"
      ],
      "text/plain": [
       "          Country        max        min       diff\n",
       "0     Afghanistan  18.379571  12.547167   5.832405\n",
       "1          Africa  25.472500  23.036000   2.436500\n",
       "2         Albania  14.993875   5.588250   9.405625\n",
       "3         Algeria  25.215667  10.343000  14.872667\n",
       "4  American Samoa  27.537917  25.667167   1.870750"
      ]
     },
     "execution_count": 64,
     "metadata": {},
     "output_type": "execute_result"
    }
   ],
   "source": [
    "country_diff=country_diff.groupby(['Country']).AverageTemperature.agg(['max','min']).reset_index()\n",
    "country_diff['diff']=country_diff['max']-country_diff['min']\n",
    "country_diff.head()"
   ]
  },
  {
   "cell_type": "markdown",
   "id": "a7ce152a",
   "metadata": {},
   "source": [
    "### Plotting the AverageTemperature for top 10 countries with the highest temperature difference:"
   ]
  },
  {
   "cell_type": "code",
   "execution_count": 65,
   "id": "7866ac0f",
   "metadata": {},
   "outputs": [
    {
     "data": {
      "text/html": [
       "<div>\n",
       "<style scoped>\n",
       "    .dataframe tbody tr th:only-of-type {\n",
       "        vertical-align: middle;\n",
       "    }\n",
       "\n",
       "    .dataframe tbody tr th {\n",
       "        vertical-align: top;\n",
       "    }\n",
       "\n",
       "    .dataframe thead th {\n",
       "        text-align: right;\n",
       "    }\n",
       "</style>\n",
       "<table border=\"1\" class=\"dataframe\">\n",
       "  <thead>\n",
       "    <tr style=\"text-align: right;\">\n",
       "      <th></th>\n",
       "      <th>Country</th>\n",
       "      <th>max</th>\n",
       "      <th>min</th>\n",
       "      <th>diff</th>\n",
       "    </tr>\n",
       "  </thead>\n",
       "  <tbody>\n",
       "    <tr>\n",
       "      <th>39</th>\n",
       "      <td>Canada</td>\n",
       "      <td>0.792714</td>\n",
       "      <td>-22.616000</td>\n",
       "      <td>23.408714</td>\n",
       "    </tr>\n",
       "    <tr>\n",
       "      <th>180</th>\n",
       "      <td>Russia</td>\n",
       "      <td>-1.628333</td>\n",
       "      <td>-21.342000</td>\n",
       "      <td>19.713667</td>\n",
       "    </tr>\n",
       "    <tr>\n",
       "      <th>115</th>\n",
       "      <td>Kazakhstan</td>\n",
       "      <td>8.937250</td>\n",
       "      <td>-8.789000</td>\n",
       "      <td>17.726250</td>\n",
       "    </tr>\n",
       "    <tr>\n",
       "      <th>159</th>\n",
       "      <td>North America</td>\n",
       "      <td>6.436000</td>\n",
       "      <td>-11.192667</td>\n",
       "      <td>17.628667</td>\n",
       "    </tr>\n",
       "    <tr>\n",
       "      <th>119</th>\n",
       "      <td>Kuwait</td>\n",
       "      <td>27.638667</td>\n",
       "      <td>12.020000</td>\n",
       "      <td>15.618667</td>\n",
       "    </tr>\n",
       "    <tr>\n",
       "      <th>234</th>\n",
       "      <td>Uzbekistan</td>\n",
       "      <td>16.188250</td>\n",
       "      <td>0.848000</td>\n",
       "      <td>15.340250</td>\n",
       "    </tr>\n",
       "    <tr>\n",
       "      <th>232</th>\n",
       "      <td>United States</td>\n",
       "      <td>12.231000</td>\n",
       "      <td>-2.774667</td>\n",
       "      <td>15.005667</td>\n",
       "    </tr>\n",
       "    <tr>\n",
       "      <th>225</th>\n",
       "      <td>Turkmenistan</td>\n",
       "      <td>18.613500</td>\n",
       "      <td>3.693000</td>\n",
       "      <td>14.920500</td>\n",
       "    </tr>\n",
       "    <tr>\n",
       "      <th>3</th>\n",
       "      <td>Algeria</td>\n",
       "      <td>25.215667</td>\n",
       "      <td>10.343000</td>\n",
       "      <td>14.872667</td>\n",
       "    </tr>\n",
       "    <tr>\n",
       "      <th>114</th>\n",
       "      <td>Jordan</td>\n",
       "      <td>22.228000</td>\n",
       "      <td>7.854500</td>\n",
       "      <td>14.373500</td>\n",
       "    </tr>\n",
       "  </tbody>\n",
       "</table>\n",
       "</div>"
      ],
      "text/plain": [
       "           Country        max        min       diff\n",
       "39          Canada   0.792714 -22.616000  23.408714\n",
       "180         Russia  -1.628333 -21.342000  19.713667\n",
       "115     Kazakhstan   8.937250  -8.789000  17.726250\n",
       "159  North America   6.436000 -11.192667  17.628667\n",
       "119         Kuwait  27.638667  12.020000  15.618667\n",
       "234     Uzbekistan  16.188250   0.848000  15.340250\n",
       "232  United States  12.231000  -2.774667  15.005667\n",
       "225   Turkmenistan  18.613500   3.693000  14.920500\n",
       "3          Algeria  25.215667  10.343000  14.872667\n",
       "114         Jordan  22.228000   7.854500  14.373500"
      ]
     },
     "execution_count": 65,
     "metadata": {},
     "output_type": "execute_result"
    }
   ],
   "source": [
    "country_list_max = country_diff.nlargest(10, columns = 'diff')\n",
    "country_list_max"
   ]
  },
  {
   "cell_type": "code",
   "execution_count": 67,
   "id": "02c30adb",
   "metadata": {},
   "outputs": [
    {
     "data": {
      "image/png": "[encoded data removed]",
      "text/plain": [
       "<Figure size 864x360 with 1 Axes>"
      ]
     },
     "metadata": {
      "needs_background": "light"
     },
     "output_type": "display_data"
    }
   ],
   "source": [
    "plt.figure(figsize=(12,5))\n",
    "plt.title('Countries with Highest Temperature Difference')\n",
    "plt.xlabel('Country')\n",
    "plt.ylabel('Temperature Difference')\n",
    "plt.plot(country_list_max['Country'],country_list_max['diff'],color='g')\n",
    "plt.grid(True)"
   ]
  },
  {
   "cell_type": "markdown",
   "id": "cb97e68e",
   "metadata": {},
   "source": [
    "### Plotting the AverageTemperature for top 10 countries with the lowest temperature difference: "
   ]
  },
  {
   "cell_type": "code",
   "execution_count": 68,
   "id": "8eeb0086",
   "metadata": {},
   "outputs": [
    {
     "data": {
      "text/html": [
       "<div>\n",
       "<style scoped>\n",
       "    .dataframe tbody tr th:only-of-type {\n",
       "        vertical-align: middle;\n",
       "    }\n",
       "\n",
       "    .dataframe tbody tr th {\n",
       "        vertical-align: top;\n",
       "    }\n",
       "\n",
       "    .dataframe thead th {\n",
       "        text-align: right;\n",
       "    }\n",
       "</style>\n",
       "<table border=\"1\" class=\"dataframe\">\n",
       "  <thead>\n",
       "    <tr style=\"text-align: right;\">\n",
       "      <th></th>\n",
       "      <th>Country</th>\n",
       "      <th>max</th>\n",
       "      <th>min</th>\n",
       "      <th>diff</th>\n",
       "    </tr>\n",
       "  </thead>\n",
       "  <tbody>\n",
       "    <tr>\n",
       "      <th>91</th>\n",
       "      <td>Guam</td>\n",
       "      <td>27.778417</td>\n",
       "      <td>26.144083</td>\n",
       "      <td>1.634333</td>\n",
       "    </tr>\n",
       "    <tr>\n",
       "      <th>161</th>\n",
       "      <td>Northern Mariana Islands</td>\n",
       "      <td>27.778417</td>\n",
       "      <td>26.144083</td>\n",
       "      <td>1.634333</td>\n",
       "    </tr>\n",
       "    <tr>\n",
       "      <th>166</th>\n",
       "      <td>Palau</td>\n",
       "      <td>28.006417</td>\n",
       "      <td>26.262667</td>\n",
       "      <td>1.743750</td>\n",
       "    </tr>\n",
       "    <tr>\n",
       "      <th>170</th>\n",
       "      <td>Papua New Guinea</td>\n",
       "      <td>25.419750</td>\n",
       "      <td>23.608917</td>\n",
       "      <td>1.810833</td>\n",
       "    </tr>\n",
       "    <tr>\n",
       "      <th>201</th>\n",
       "      <td>Somalia</td>\n",
       "      <td>27.975625</td>\n",
       "      <td>26.159083</td>\n",
       "      <td>1.816542</td>\n",
       "    </tr>\n",
       "    <tr>\n",
       "      <th>200</th>\n",
       "      <td>Solomon Islands</td>\n",
       "      <td>27.586250</td>\n",
       "      <td>25.755417</td>\n",
       "      <td>1.830833</td>\n",
       "    </tr>\n",
       "    <tr>\n",
       "      <th>203</th>\n",
       "      <td>South America</td>\n",
       "      <td>22.857000</td>\n",
       "      <td>21.024917</td>\n",
       "      <td>1.832083</td>\n",
       "    </tr>\n",
       "    <tr>\n",
       "      <th>188</th>\n",
       "      <td>Samoa</td>\n",
       "      <td>27.236667</td>\n",
       "      <td>25.388000</td>\n",
       "      <td>1.848667</td>\n",
       "    </tr>\n",
       "    <tr>\n",
       "      <th>4</th>\n",
       "      <td>American Samoa</td>\n",
       "      <td>27.537917</td>\n",
       "      <td>25.667167</td>\n",
       "      <td>1.870750</td>\n",
       "    </tr>\n",
       "    <tr>\n",
       "      <th>73</th>\n",
       "      <td>Federated States Of Micronesia</td>\n",
       "      <td>27.997250</td>\n",
       "      <td>26.121250</td>\n",
       "      <td>1.876000</td>\n",
       "    </tr>\n",
       "  </tbody>\n",
       "</table>\n",
       "</div>"
      ],
      "text/plain": [
       "                            Country        max        min      diff\n",
       "91                             Guam  27.778417  26.144083  1.634333\n",
       "161        Northern Mariana Islands  27.778417  26.144083  1.634333\n",
       "166                           Palau  28.006417  26.262667  1.743750\n",
       "170                Papua New Guinea  25.419750  23.608917  1.810833\n",
       "201                         Somalia  27.975625  26.159083  1.816542\n",
       "200                 Solomon Islands  27.586250  25.755417  1.830833\n",
       "203                   South America  22.857000  21.024917  1.832083\n",
       "188                           Samoa  27.236667  25.388000  1.848667\n",
       "4                    American Samoa  27.537917  25.667167  1.870750\n",
       "73   Federated States Of Micronesia  27.997250  26.121250  1.876000"
      ]
     },
     "execution_count": 68,
     "metadata": {},
     "output_type": "execute_result"
    }
   ],
   "source": [
    "country_list_min = country_diff.nsmallest(10, columns = 'diff')\n",
    "country_list_min"
   ]
  },
  {
   "cell_type": "code",
   "execution_count": 70,
   "id": "17eadb77",
   "metadata": {},
   "outputs": [
    {
     "data": {
      "image/png": "[encoded data removed]",
      "text/plain": [
       "<Figure size 864x360 with 1 Axes>"
      ]
     },
     "metadata": {
      "needs_background": "light"
     },
     "output_type": "display_data"
    }
   ],
   "source": [
    "plt.figure(figsize=(12,5))\n",
    "plt.title('Countries with Lowest Temperature Difference')\n",
    "plt.xlabel('Country')\n",
    "plt.xticks(rotation=90)\n",
    "plt.ylabel('Temperature Difference')\n",
    "plt.plot(country_list_min['Country'],country_list_min['diff'],color='r')\n",
    "plt.grid(True)"
   ]
  },
  {
   "cell_type": "markdown",
   "id": "89eea0c9",
   "metadata": {},
   "source": [
    "#### The increase in temperature is not very evident in both the plots. Also the data doesn't seem to be very reliable. "
   ]
  },
  {
   "cell_type": "markdown",
   "id": "771f54ca",
   "metadata": {},
   "source": [
    "#### So repeating the exercise by first filtering the dataframe country to only represent data after 1900.¶"
   ]
  },
  {
   "cell_type": "markdown",
   "id": "86d09fc8",
   "metadata": {},
   "source": [
    "## Plotting the averageTemperature for countries with the highest temperature difference"
   ]
  },
  {
   "cell_type": "code",
   "execution_count": 71,
   "id": "efd7e3c1",
   "metadata": {},
   "outputs": [
    {
     "data": {
      "text/html": [
       "<div>\n",
       "<style scoped>\n",
       "    .dataframe tbody tr th:only-of-type {\n",
       "        vertical-align: middle;\n",
       "    }\n",
       "\n",
       "    .dataframe tbody tr th {\n",
       "        vertical-align: top;\n",
       "    }\n",
       "\n",
       "    .dataframe thead th {\n",
       "        text-align: right;\n",
       "    }\n",
       "</style>\n",
       "<table border=\"1\" class=\"dataframe\">\n",
       "  <thead>\n",
       "    <tr style=\"text-align: right;\">\n",
       "      <th></th>\n",
       "      <th>Country</th>\n",
       "      <th>max</th>\n",
       "      <th>min</th>\n",
       "      <th>diff</th>\n",
       "    </tr>\n",
       "  </thead>\n",
       "  <tbody>\n",
       "    <tr>\n",
       "      <th>0</th>\n",
       "      <td>Afghanistan</td>\n",
       "      <td>16.533625</td>\n",
       "      <td>12.547167</td>\n",
       "      <td>3.986458</td>\n",
       "    </tr>\n",
       "    <tr>\n",
       "      <th>1</th>\n",
       "      <td>Africa</td>\n",
       "      <td>25.472500</td>\n",
       "      <td>23.330083</td>\n",
       "      <td>2.142417</td>\n",
       "    </tr>\n",
       "    <tr>\n",
       "      <th>2</th>\n",
       "      <td>Albania</td>\n",
       "      <td>14.993875</td>\n",
       "      <td>11.582500</td>\n",
       "      <td>3.411375</td>\n",
       "    </tr>\n",
       "    <tr>\n",
       "      <th>3</th>\n",
       "      <td>Algeria</td>\n",
       "      <td>25.215667</td>\n",
       "      <td>22.171583</td>\n",
       "      <td>3.044083</td>\n",
       "    </tr>\n",
       "    <tr>\n",
       "      <th>4</th>\n",
       "      <td>American Samoa</td>\n",
       "      <td>27.537917</td>\n",
       "      <td>25.853500</td>\n",
       "      <td>1.684417</td>\n",
       "    </tr>\n",
       "  </tbody>\n",
       "</table>\n",
       "</div>"
      ],
      "text/plain": [
       "          Country        max        min      diff\n",
       "0     Afghanistan  16.533625  12.547167  3.986458\n",
       "1          Africa  25.472500  23.330083  2.142417\n",
       "2         Albania  14.993875  11.582500  3.411375\n",
       "3         Algeria  25.215667  22.171583  3.044083\n",
       "4  American Samoa  27.537917  25.853500  1.684417"
      ]
     },
     "execution_count": 71,
     "metadata": {},
     "output_type": "execute_result"
    }
   ],
   "source": [
    "country_filtered=country.groupby([country.index.year.rename('Year'),'Country']).AverageTemperature.mean().reset_index()\n",
    "country_filtered=country_filtered[country_filtered['Year']>=1900]\n",
    "country_filtered=country_filtered.groupby(['Country']).AverageTemperature.agg(['max','min']).reset_index()\n",
    "country_filtered['diff']=country_filtered['max']-country_filtered['min']\n",
    "country_filtered.head()"
   ]
  },
  {
   "cell_type": "code",
   "execution_count": 72,
   "id": "884394b5",
   "metadata": {},
   "outputs": [
    {
     "data": {
      "text/html": [
       "<div>\n",
       "<style scoped>\n",
       "    .dataframe tbody tr th:only-of-type {\n",
       "        vertical-align: middle;\n",
       "    }\n",
       "\n",
       "    .dataframe tbody tr th {\n",
       "        vertical-align: top;\n",
       "    }\n",
       "\n",
       "    .dataframe thead th {\n",
       "        text-align: right;\n",
       "    }\n",
       "</style>\n",
       "<table border=\"1\" class=\"dataframe\">\n",
       "  <thead>\n",
       "    <tr style=\"text-align: right;\">\n",
       "      <th></th>\n",
       "      <th>Country</th>\n",
       "      <th>max</th>\n",
       "      <th>min</th>\n",
       "      <th>diff</th>\n",
       "    </tr>\n",
       "  </thead>\n",
       "  <tbody>\n",
       "    <tr>\n",
       "      <th>210</th>\n",
       "      <td>Svalbard And Jan Mayen</td>\n",
       "      <td>-3.781000</td>\n",
       "      <td>-9.682667</td>\n",
       "      <td>5.901667</td>\n",
       "    </tr>\n",
       "    <tr>\n",
       "      <th>234</th>\n",
       "      <td>Uzbekistan</td>\n",
       "      <td>16.188250</td>\n",
       "      <td>10.626417</td>\n",
       "      <td>5.561833</td>\n",
       "    </tr>\n",
       "    <tr>\n",
       "      <th>225</th>\n",
       "      <td>Turkmenistan</td>\n",
       "      <td>18.613500</td>\n",
       "      <td>13.112583</td>\n",
       "      <td>5.500917</td>\n",
       "    </tr>\n",
       "    <tr>\n",
       "      <th>115</th>\n",
       "      <td>Kazakhstan</td>\n",
       "      <td>8.937250</td>\n",
       "      <td>3.723750</td>\n",
       "      <td>5.213500</td>\n",
       "    </tr>\n",
       "    <tr>\n",
       "      <th>39</th>\n",
       "      <td>Canada</td>\n",
       "      <td>-1.640667</td>\n",
       "      <td>-6.802917</td>\n",
       "      <td>5.162250</td>\n",
       "    </tr>\n",
       "    <tr>\n",
       "      <th>228</th>\n",
       "      <td>Ukraine</td>\n",
       "      <td>10.913500</td>\n",
       "      <td>5.811167</td>\n",
       "      <td>5.102333</td>\n",
       "    </tr>\n",
       "    <tr>\n",
       "      <th>88</th>\n",
       "      <td>Greenland</td>\n",
       "      <td>-15.409750</td>\n",
       "      <td>-20.446833</td>\n",
       "      <td>5.037083</td>\n",
       "    </tr>\n",
       "    <tr>\n",
       "      <th>75</th>\n",
       "      <td>Finland</td>\n",
       "      <td>4.064125</td>\n",
       "      <td>-0.962417</td>\n",
       "      <td>5.026542</td>\n",
       "    </tr>\n",
       "    <tr>\n",
       "      <th>58</th>\n",
       "      <td>Denmark</td>\n",
       "      <td>-14.927250</td>\n",
       "      <td>-19.857750</td>\n",
       "      <td>4.930500</td>\n",
       "    </tr>\n",
       "    <tr>\n",
       "      <th>144</th>\n",
       "      <td>Mongolia</td>\n",
       "      <td>2.807750</td>\n",
       "      <td>-2.023000</td>\n",
       "      <td>4.830750</td>\n",
       "    </tr>\n",
       "  </tbody>\n",
       "</table>\n",
       "</div>"
      ],
      "text/plain": [
       "                    Country        max        min      diff\n",
       "210  Svalbard And Jan Mayen  -3.781000  -9.682667  5.901667\n",
       "234              Uzbekistan  16.188250  10.626417  5.561833\n",
       "225            Turkmenistan  18.613500  13.112583  5.500917\n",
       "115              Kazakhstan   8.937250   3.723750  5.213500\n",
       "39                   Canada  -1.640667  -6.802917  5.162250\n",
       "228                 Ukraine  10.913500   5.811167  5.102333\n",
       "88                Greenland -15.409750 -20.446833  5.037083\n",
       "75                  Finland   4.064125  -0.962417  5.026542\n",
       "58                  Denmark -14.927250 -19.857750  4.930500\n",
       "144                Mongolia   2.807750  -2.023000  4.830750"
      ]
     },
     "execution_count": 72,
     "metadata": {},
     "output_type": "execute_result"
    }
   ],
   "source": [
    "country_list_max = country_filtered.nlargest(10, columns = 'diff')\n",
    "country_list_max"
   ]
  },
  {
   "cell_type": "code",
   "execution_count": 73,
   "id": "d05ea875",
   "metadata": {},
   "outputs": [
    {
     "data": {
      "image/png": "[encoded data removed]",
      "text/plain": [
       "<Figure size 864x360 with 1 Axes>"
      ]
     },
     "metadata": {
      "needs_background": "light"
     },
     "output_type": "display_data"
    }
   ],
   "source": [
    "plt.figure(figsize=(12,5))\n",
    "plt.title('Countries with Highest Temperature Difference')\n",
    "plt.xlabel('Country')\n",
    "plt.xticks(rotation = 90)\n",
    "plt.ylabel('Temperature Difference')\n",
    "plt.plot(country_list_max['Country'],country_list_max['diff'],color='g')\n",
    "plt.grid(True)"
   ]
  },
  {
   "cell_type": "markdown",
   "id": "8b966dbb",
   "metadata": {},
   "source": [
    "### Plotting the averageTemperature for countries with the lowest temperature difference."
   ]
  },
  {
   "cell_type": "code",
   "execution_count": 74,
   "id": "ea99f2bd",
   "metadata": {},
   "outputs": [
    {
     "data": {
      "text/html": [
       "<div>\n",
       "<style scoped>\n",
       "    .dataframe tbody tr th:only-of-type {\n",
       "        vertical-align: middle;\n",
       "    }\n",
       "\n",
       "    .dataframe tbody tr th {\n",
       "        vertical-align: top;\n",
       "    }\n",
       "\n",
       "    .dataframe thead th {\n",
       "        text-align: right;\n",
       "    }\n",
       "</style>\n",
       "<table border=\"1\" class=\"dataframe\">\n",
       "  <thead>\n",
       "    <tr style=\"text-align: right;\">\n",
       "      <th></th>\n",
       "      <th>Country</th>\n",
       "      <th>max</th>\n",
       "      <th>min</th>\n",
       "      <th>diff</th>\n",
       "    </tr>\n",
       "  </thead>\n",
       "  <tbody>\n",
       "    <tr>\n",
       "      <th>44</th>\n",
       "      <td>Chile</td>\n",
       "      <td>10.337000</td>\n",
       "      <td>8.869750</td>\n",
       "      <td>1.467250</td>\n",
       "    </tr>\n",
       "    <tr>\n",
       "      <th>207</th>\n",
       "      <td>Sri Lanka</td>\n",
       "      <td>28.175125</td>\n",
       "      <td>26.590000</td>\n",
       "      <td>1.585125</td>\n",
       "    </tr>\n",
       "    <tr>\n",
       "      <th>166</th>\n",
       "      <td>Palau</td>\n",
       "      <td>28.006417</td>\n",
       "      <td>26.391333</td>\n",
       "      <td>1.615083</td>\n",
       "    </tr>\n",
       "    <tr>\n",
       "      <th>91</th>\n",
       "      <td>Guam</td>\n",
       "      <td>27.778417</td>\n",
       "      <td>26.144083</td>\n",
       "      <td>1.634333</td>\n",
       "    </tr>\n",
       "    <tr>\n",
       "      <th>161</th>\n",
       "      <td>Northern Mariana Islands</td>\n",
       "      <td>27.778417</td>\n",
       "      <td>26.144083</td>\n",
       "      <td>1.634333</td>\n",
       "    </tr>\n",
       "    <tr>\n",
       "      <th>188</th>\n",
       "      <td>Samoa</td>\n",
       "      <td>27.236667</td>\n",
       "      <td>25.593583</td>\n",
       "      <td>1.643083</td>\n",
       "    </tr>\n",
       "    <tr>\n",
       "      <th>4</th>\n",
       "      <td>American Samoa</td>\n",
       "      <td>27.537917</td>\n",
       "      <td>25.853500</td>\n",
       "      <td>1.684417</td>\n",
       "    </tr>\n",
       "    <tr>\n",
       "      <th>178</th>\n",
       "      <td>Reunion</td>\n",
       "      <td>24.380500</td>\n",
       "      <td>22.660833</td>\n",
       "      <td>1.719667</td>\n",
       "    </tr>\n",
       "    <tr>\n",
       "      <th>104</th>\n",
       "      <td>Indonesia</td>\n",
       "      <td>26.754750</td>\n",
       "      <td>25.029333</td>\n",
       "      <td>1.725417</td>\n",
       "    </tr>\n",
       "    <tr>\n",
       "      <th>201</th>\n",
       "      <td>Somalia</td>\n",
       "      <td>27.975625</td>\n",
       "      <td>26.234250</td>\n",
       "      <td>1.741375</td>\n",
       "    </tr>\n",
       "  </tbody>\n",
       "</table>\n",
       "</div>"
      ],
      "text/plain": [
       "                      Country        max        min      diff\n",
       "44                      Chile  10.337000   8.869750  1.467250\n",
       "207                 Sri Lanka  28.175125  26.590000  1.585125\n",
       "166                     Palau  28.006417  26.391333  1.615083\n",
       "91                       Guam  27.778417  26.144083  1.634333\n",
       "161  Northern Mariana Islands  27.778417  26.144083  1.634333\n",
       "188                     Samoa  27.236667  25.593583  1.643083\n",
       "4              American Samoa  27.537917  25.853500  1.684417\n",
       "178                   Reunion  24.380500  22.660833  1.719667\n",
       "104                 Indonesia  26.754750  25.029333  1.725417\n",
       "201                   Somalia  27.975625  26.234250  1.741375"
      ]
     },
     "execution_count": 74,
     "metadata": {},
     "output_type": "execute_result"
    }
   ],
   "source": [
    "country_list_min = country_filtered.nsmallest(10, columns = 'diff')\n",
    "country_list_min"
   ]
  },
  {
   "cell_type": "code",
   "execution_count": 75,
   "id": "611dfde1",
   "metadata": {},
   "outputs": [
    {
     "data": {
      "image/png": "[encoded data removed]",
      "text/plain": [
       "<Figure size 864x360 with 1 Axes>"
      ]
     },
     "metadata": {
      "needs_background": "light"
     },
     "output_type": "display_data"
    }
   ],
   "source": [
    "plt.figure(figsize=(12,5))\n",
    "plt.title('Countries with Lowest Temperature Difference')\n",
    "plt.xlabel('Country')\n",
    "plt.xticks(rotation = 90)\n",
    "plt.ylabel('Temperature Difference')\n",
    "plt.plot(country_list_min['Country'],country_list_min['diff'],color='r')\n",
    "plt.grid(True)"
   ]
  },
  {
   "cell_type": "markdown",
   "id": "3c4804a2",
   "metadata": {},
   "source": [
    "#### The countries on Nothern and southern hemispheres seems to have witnessed significantly more global warming compared to the tropical countries."
   ]
  },
  {
   "cell_type": "markdown",
   "id": "c11f3be4",
   "metadata": {},
   "source": [
    "## Temperature Comparison of Developed Vs. Developing nations:"
   ]
  },
  {
   "cell_type": "code",
   "execution_count": 76,
   "id": "37e00b29",
   "metadata": {},
   "outputs": [
    {
     "data": {
      "text/html": [
       "<div>\n",
       "<style scoped>\n",
       "    .dataframe tbody tr th:only-of-type {\n",
       "        vertical-align: middle;\n",
       "    }\n",
       "\n",
       "    .dataframe tbody tr th {\n",
       "        vertical-align: top;\n",
       "    }\n",
       "\n",
       "    .dataframe thead th {\n",
       "        text-align: right;\n",
       "    }\n",
       "</style>\n",
       "<table border=\"1\" class=\"dataframe\">\n",
       "  <thead>\n",
       "    <tr style=\"text-align: right;\">\n",
       "      <th></th>\n",
       "      <th>Year</th>\n",
       "      <th>Country</th>\n",
       "      <th>AverageTemperature</th>\n",
       "    </tr>\n",
       "  </thead>\n",
       "  <tbody>\n",
       "    <tr>\n",
       "      <th>0</th>\n",
       "      <td>1743</td>\n",
       "      <td>France</td>\n",
       "      <td>10.203</td>\n",
       "    </tr>\n",
       "    <tr>\n",
       "      <th>1</th>\n",
       "      <td>1743</td>\n",
       "      <td>Germany</td>\n",
       "      <td>5.468</td>\n",
       "    </tr>\n",
       "    <tr>\n",
       "      <th>2</th>\n",
       "      <td>1743</td>\n",
       "      <td>Norway</td>\n",
       "      <td>-3.503</td>\n",
       "    </tr>\n",
       "    <tr>\n",
       "      <th>3</th>\n",
       "      <td>1743</td>\n",
       "      <td>Sweden</td>\n",
       "      <td>-1.444</td>\n",
       "    </tr>\n",
       "    <tr>\n",
       "      <th>4</th>\n",
       "      <td>1743</td>\n",
       "      <td>Switzerland</td>\n",
       "      <td>3.572</td>\n",
       "    </tr>\n",
       "  </tbody>\n",
       "</table>\n",
       "</div>"
      ],
      "text/plain": [
       "   Year      Country  AverageTemperature\n",
       "0  1743       France              10.203\n",
       "1  1743      Germany               5.468\n",
       "2  1743       Norway              -3.503\n",
       "3  1743       Sweden              -1.444\n",
       "4  1743  Switzerland               3.572"
      ]
     },
     "execution_count": 76,
     "metadata": {},
     "output_type": "execute_result"
    }
   ],
   "source": [
    "developed = ['United States', 'United Kingdom', 'France', 'Germany', 'Japan', 'Canada', 'Switzerland', 'Norway', 'Sweden', 'South Korea', 'Australia']\n",
    "developed_df=country[country.Country.isin(developed)]\n",
    "developed_df=developed_df.groupby([developed_df.index.year.rename('Year'),'Country']).AverageTemperature.mean().reset_index()\n",
    "developed_df.head()"
   ]
  },
  {
   "cell_type": "code",
   "execution_count": 77,
   "id": "43ef5e97",
   "metadata": {},
   "outputs": [
    {
     "data": {
      "text/html": [
       "<div>\n",
       "<style scoped>\n",
       "    .dataframe tbody tr th:only-of-type {\n",
       "        vertical-align: middle;\n",
       "    }\n",
       "\n",
       "    .dataframe tbody tr th {\n",
       "        vertical-align: top;\n",
       "    }\n",
       "\n",
       "    .dataframe thead th {\n",
       "        text-align: right;\n",
       "    }\n",
       "</style>\n",
       "<table border=\"1\" class=\"dataframe\">\n",
       "  <thead>\n",
       "    <tr style=\"text-align: right;\">\n",
       "      <th></th>\n",
       "      <th>Year</th>\n",
       "      <th>Country</th>\n",
       "      <th>AverageTemperature</th>\n",
       "    </tr>\n",
       "  </thead>\n",
       "  <tbody>\n",
       "    <tr>\n",
       "      <th>0</th>\n",
       "      <td>1777</td>\n",
       "      <td>Turkey</td>\n",
       "      <td>12.688500</td>\n",
       "    </tr>\n",
       "    <tr>\n",
       "      <th>1</th>\n",
       "      <td>1778</td>\n",
       "      <td>Turkey</td>\n",
       "      <td>11.931250</td>\n",
       "    </tr>\n",
       "    <tr>\n",
       "      <th>2</th>\n",
       "      <td>1779</td>\n",
       "      <td>Turkey</td>\n",
       "      <td>12.031333</td>\n",
       "    </tr>\n",
       "    <tr>\n",
       "      <th>3</th>\n",
       "      <td>1780</td>\n",
       "      <td>Turkey</td>\n",
       "      <td>12.248333</td>\n",
       "    </tr>\n",
       "    <tr>\n",
       "      <th>4</th>\n",
       "      <td>1781</td>\n",
       "      <td>Turkey</td>\n",
       "      <td>11.669083</td>\n",
       "    </tr>\n",
       "  </tbody>\n",
       "</table>\n",
       "</div>"
      ],
      "text/plain": [
       "   Year Country  AverageTemperature\n",
       "0  1777  Turkey           12.688500\n",
       "1  1778  Turkey           11.931250\n",
       "2  1779  Turkey           12.031333\n",
       "3  1780  Turkey           12.248333\n",
       "4  1781  Turkey           11.669083"
      ]
     },
     "execution_count": 77,
     "metadata": {},
     "output_type": "execute_result"
    }
   ],
   "source": [
    "developing = ['China', 'India', 'Columbia', 'Brazil', 'Mexico', 'Indonesia', 'Philippines', 'Maldives', 'Turkey', 'South Africa', 'Libya']\n",
    "developing_df=country[country.Country.isin(developing)]\n",
    "developing_df=developing_df.groupby([developing_df.index.year.rename('Year'),'Country']).AverageTemperature.mean().reset_index()\n",
    "developing_df.head()"
   ]
  },
  {
   "cell_type": "code",
   "execution_count": 82,
   "id": "4b71e127",
   "metadata": {},
   "outputs": [
    {
     "data": {
      "image/png": "[encoded data removed]",
      "text/plain": [
       "<Figure size 864x360 with 2 Axes>"
      ]
     },
     "metadata": {
      "needs_background": "light"
     },
     "output_type": "display_data"
    }
   ],
   "source": [
    "fig, axs = plt.subplots(ncols=2,figsize=(12,5))\n",
    "sns.regplot(x='AverageTemperature',y='Year',fit_reg=True,data=developing_df, ax=axs[0])\n",
    "axs[0].set(title = 'Developing Countries')\n",
    "sns.regplot(x='AverageTemperature',y='Year',fit_reg=True,data=developed_df, ax=axs[1])\n",
    "axs[1].set(title ='Developed Countries');"
   ]
  },
  {
   "cell_type": "markdown",
   "id": "5ff8ff24",
   "metadata": {},
   "source": [
    "## Predicting temperature using Linear regression for Developing Countries"
   ]
  },
  {
   "cell_type": "code",
   "execution_count": 83,
   "id": "14009958",
   "metadata": {},
   "outputs": [
    {
     "data": {
      "text/plain": [
       "array([19.77962655, 19.60692046, 20.4795407 , 20.51589988, 20.42500194,\n",
       "       19.53420211, 19.77053676, 20.26138564, 19.56147149, 20.02505099,\n",
       "       20.06141017, 20.39773255, 19.57965108, 19.61601026, 20.4795407 ,\n",
       "       19.91597346, 20.27956523, 19.63418985, 19.65236943, 20.16139791,\n",
       "       20.46136111, 20.55225905, 20.20684688, 19.77962655, 20.00687141,\n",
       "       19.98869182, 20.05232038, 19.60692046, 20.37955296, 20.34319379,\n",
       "       20.3250142 , 19.5432919 , 20.51589988, 19.97960202, 20.1704877 ,\n",
       "       20.36137338, 20.25229585, 20.1704877 , 20.09776935, 19.73417758,\n",
       "       19.56147149, 20.1704877 , 19.58874087, 19.88870408, 19.67054902,\n",
       "       20.03414079, 19.94324285, 20.46136111, 19.79780614, 19.93415305,\n",
       "       20.1704877 , 19.84325511, 20.46136111, 20.55225905, 20.37046317,\n",
       "       20.35228358, 19.78871635, 20.31592441, 20.47045091, 20.11594893,\n",
       "       19.8523449 , 20.30683461, 19.64327964, 19.83416532, 20.49772029,\n",
       "       19.80689593, 19.82507552, 19.62510005, 19.8523449 , 20.04323058,\n",
       "       20.09776935, 20.17957749, 20.36137338, 20.4795407 , 20.50681008,\n",
       "       19.93415305, 19.94324285, 20.14321832, 20.27956523, 20.02505099,\n",
       "       20.41591214, 20.40682235, 20.44318152, 19.79780614, 19.73417758,\n",
       "       20.0159612 , 20.37955296, 19.53420211, 20.54316926, 19.91597346,\n",
       "       19.99778161, 19.72508779, 19.93415305, 20.49772029, 19.97051223,\n",
       "       20.41591214, 19.79780614, 20.25229585, 19.82507552, 19.99778161,\n",
       "       20.17957749, 20.24320605, 20.52498967, 20.33410399, 19.89779388,\n",
       "       20.33410399, 19.96142243, 20.11594893, 19.90688367, 19.84325511,\n",
       "       20.15230811, 19.77053676, 20.03414079, 20.4795407 , 20.3250142 ,\n",
       "       20.12503873, 19.87961429, 19.80689593, 20.26138564, 20.00687141,\n",
       "       19.59783067, 19.67054902, 19.83416532, 20.28865502, 20.53407947,\n",
       "       20.27047544, 20.34319379, 19.80689593, 20.07049996, 20.19775708,\n",
       "       20.21593667, 20.55225905, 19.76144696, 19.74326737, 19.58874087,\n",
       "       20.33410399, 20.39773255, 20.15230811, 20.20684688, 19.95233264,\n",
       "       20.19775708, 20.54316926, 20.26138564, 20.40682235, 20.23411626,\n",
       "       20.34319379, 19.53420211, 20.07049996, 20.37046317, 19.63418985,\n",
       "       20.06141017, 20.13412852, 20.26138564, 20.28865502, 19.89779388,\n",
       "       19.7069082 , 20.39773255, 19.58874087, 19.56147149, 20.0159612 ,\n",
       "       19.56147149, 19.95233264, 20.30683461, 20.43409173, 20.49772029,\n",
       "       20.33410399, 19.89779388, 20.10685914, 20.41591214, 20.02505099,\n",
       "       20.12503873, 20.41591214, 20.41591214, 20.41591214, 20.05232038,\n",
       "       20.08867955, 20.24320605, 20.05232038, 20.54316926, 19.77962655,\n",
       "       20.21593667, 20.34319379, 19.67963882, 19.76144696, 19.97051223,\n",
       "       20.37046317, 20.14321832, 19.78871635, 19.91597346, 20.34319379,\n",
       "       19.67963882, 20.3250142 , 20.0159612 , 19.8614347 , 19.8523449 ,\n",
       "       20.14321832, 20.30683461, 20.26138564, 20.03414079, 20.02505099,\n",
       "       19.74326737, 20.12503873, 19.92506326, 19.77053676, 19.53420211,\n",
       "       19.88870408, 20.43409173, 20.27047544, 20.18866729, 20.19775708,\n",
       "       19.67963882, 19.84325511, 19.79780614, 20.03414079, 20.16139791,\n",
       "       19.79780614, 19.81598573, 20.42500194, 20.51589988, 19.8523449 ,\n",
       "       20.06141017, 20.46136111, 19.64327964, 20.16139791, 19.57056129,\n",
       "       20.20684688, 20.45227132, 19.78871635, 19.68872861, 19.68872861,\n",
       "       19.57056129, 20.16139791, 20.20684688, 20.18866729, 20.07958976,\n",
       "       20.37046317, 19.95233264, 20.37046317, 20.15230811, 20.07049996,\n",
       "       19.5523817 , 19.97051223, 20.34319379, 20.14321832, 19.94324285,\n",
       "       20.36137338, 19.58874087, 19.60692046, 20.22502646, 19.72508779,\n",
       "       19.88870408, 19.71599799, 20.0159612 , 19.91597346, 19.73417758,\n",
       "       20.33410399, 20.55225905, 20.3250142 , 19.98869182, 19.84325511,\n",
       "       20.07958976, 20.47045091, 19.57056129, 20.49772029, 20.27047544,\n",
       "       19.80689593, 19.67054902, 20.30683461, 19.72508779, 19.84325511,\n",
       "       20.0159612 , 20.3250142 , 20.18866729, 19.8523449 , 20.43409173,\n",
       "       19.57965108, 19.6978184 , 19.98869182, 19.81598573, 20.12503873,\n",
       "       20.07049996, 19.96142243, 19.7069082 , 20.20684688, 19.98869182,\n",
       "       19.88870408, 19.95233264, 20.47045091, 20.52498967, 19.57056129,\n",
       "       20.10685914, 19.99778161, 19.68872861, 19.75235717, 20.18866729,\n",
       "       19.74326737, 20.29774482, 20.52498967, 20.25229585, 19.6978184 ,\n",
       "       20.10685914, 20.0159612 , 20.0159612 , 19.5432919 , 19.63418985,\n",
       "       19.59783067])"
      ]
     },
     "execution_count": 83,
     "metadata": {},
     "output_type": "execute_result"
    }
   ],
   "source": [
    "developing_df= developing_df[developing_df['Year'] > 1900]\n",
    "\n",
    "x=developing_df['Year'].values.reshape(-1,1)\n",
    "y=developing_df['AverageTemperature']\n",
    "\n",
    "from sklearn.model_selection import train_test_split\n",
    "\n",
    "x_train,x_test,y_train,y_test=train_test_split(x,y,test_size=0.3,random_state=0)\n",
    "\n",
    "from sklearn.linear_model import LinearRegression\n",
    "regr=LinearRegression()\n",
    "regr.fit(x_train,y_train)\n",
    "\n",
    "y_pred_1=regr.predict(x_test)\n",
    "y_pred_1"
   ]
  },
  {
   "cell_type": "markdown",
   "id": "cc36880e",
   "metadata": {},
   "source": [
    "### coefficient and intercept for developing_df"
   ]
  },
  {
   "cell_type": "code",
   "execution_count": 85,
   "id": "862821b5",
   "metadata": {},
   "outputs": [
    {
     "data": {
      "text/plain": [
       "(array([0.00908979]), 2.2545034444454224)"
      ]
     },
     "execution_count": 85,
     "metadata": {},
     "output_type": "execute_result"
    }
   ],
   "source": [
    "regr.coef_,regr.intercept_"
   ]
  },
  {
   "cell_type": "markdown",
   "id": "3d776399",
   "metadata": {},
   "source": [
    "## Predicting the temperatures in developing countries in the year 2025"
   ]
  },
  {
   "cell_type": "code",
   "execution_count": 86,
   "id": "9e752a83",
   "metadata": {},
   "outputs": [
    {
     "data": {
      "text/plain": [
       "array([20.66133658])"
      ]
     },
     "execution_count": 86,
     "metadata": {},
     "output_type": "execute_result"
    }
   ],
   "source": [
    "regr.predict([[2025]])"
   ]
  },
  {
   "cell_type": "markdown",
   "id": "ad7b3563",
   "metadata": {},
   "source": [
    "## Predicting temperature using Linear regression for Developed Countries"
   ]
  },
  {
   "cell_type": "code",
   "execution_count": 90,
   "id": "17266e2b",
   "metadata": {
    "scrolled": true
   },
   "outputs": [
    {
     "data": {
      "text/plain": [
       "array([9.25956093, 7.83009313, 7.90085886, 8.84911968, 7.68856166,\n",
       "       9.14633575, 9.07557002, 8.24053438, 8.26884067, 8.62266933,\n",
       "       8.86327282, 8.82081338, 7.7310211 , 7.67440852, 8.07069662,\n",
       "       8.21222808, 8.60851619, 8.07069662, 8.3679127 , 7.91501201,\n",
       "       8.29714696, 8.45283158, 8.12730921, 8.60851619, 8.46698472,\n",
       "       8.46698472, 7.90085886, 9.08972317, 8.73589451, 7.84424628,\n",
       "       9.21710149, 8.08484977, 8.14146235, 9.08972317, 7.74517425,\n",
       "       8.99065114, 8.41037214, 8.84911968, 7.98577774, 8.25468752,\n",
       "       8.56605675, 9.04726373, 8.7642008 , 7.67440852, 8.16976865,\n",
       "       9.25956093, 8.82081338, 7.77348054, 8.69343507, 8.22638123,\n",
       "       7.7310211 , 8.52359731, 8.5519036 , 9.24540778, 8.42452528,\n",
       "       7.71686796, 8.18392179, 8.50944416, 9.23125463, 8.75004765,\n",
       "       8.22638123, 9.06141688, 8.83496653, 8.976498  , 8.24053438,\n",
       "       9.14633575, 8.976498  , 7.85839942, 8.19807494, 8.05654347,\n",
       "       7.68856166, 9.00480429, 8.99065114, 9.14633575, 8.62266933,\n",
       "       8.18392179, 7.87255257, 8.69343507, 7.97162459, 9.25956093,\n",
       "       8.75004765, 8.89157912, 8.25468752, 7.97162459, 8.39621899,\n",
       "       8.12730921, 8.72174136, 8.52359731, 8.79250709, 8.58020989,\n",
       "       8.87742597, 9.00480429, 9.17464205, 9.11802946, 8.5519036 ,\n",
       "       8.62266933, 7.95747145, 8.49529101, 8.22638123, 9.08972317,\n",
       "       8.77835395, 9.07557002, 8.04239033, 8.28299382, 7.99993089,\n",
       "       8.82081338, 7.7593274 , 8.89157912, 8.86327282, 8.45283158,\n",
       "       8.24053438, 7.80178684, 8.25468752, 8.7642008 , 8.05654347,\n",
       "       8.83496653, 7.78763369, 7.98577774, 7.9433183 , 8.35375955,\n",
       "       9.07557002, 7.91501201, 7.84424628, 9.11802946, 7.67440852,\n",
       "       8.49529101, 9.11802946, 8.65097563, 9.18879519, 8.67928192,\n",
       "       8.11315606, 8.7642008 , 9.17464205, 8.3679127 , 8.12730921,\n",
       "       8.28299382, 8.63682248, 8.05654347, 8.80666024, 8.43867843,\n",
       "       8.35375955, 8.11315606, 8.05654347, 8.79250709, 9.13218261,\n",
       "       8.58020989, 8.01408403, 7.87255257, 8.9481917 , 8.75004765,\n",
       "       8.01408403, 8.63682248, 9.25956093, 8.87742597, 9.07557002,\n",
       "       8.16976865, 8.09900291, 8.28299382, 8.02823718, 8.56605675,\n",
       "       8.29714696, 8.38206584, 8.16976865, 8.91988541, 8.46698472,\n",
       "       8.21222808, 9.20294834, 8.63682248, 8.60851619, 8.31130011,\n",
       "       8.48113787, 8.69343507, 8.39621899, 7.71686796, 8.80666024,\n",
       "       9.17464205, 8.99065114, 8.93403856, 8.25468752, 7.97162459,\n",
       "       8.42452528, 8.26884067, 8.07069662, 8.58020989, 8.22638123,\n",
       "       9.17464205, 8.08484977, 9.06141688, 9.13218261, 7.92916515,\n",
       "       8.65097563, 7.7310211 , 8.9481917 , 9.20294834, 8.60851619,\n",
       "       8.32545326, 9.14633575, 8.3396064 , 8.11315606, 8.35375955,\n",
       "       7.92916515, 8.976498  , 7.7310211 , 8.7642008 , 9.18879519,\n",
       "       8.38206584, 8.22638123, 8.21222808, 9.10387631, 8.21222808,\n",
       "       7.92916515, 7.74517425, 9.18879519, 7.70271481, 9.23125463,\n",
       "       8.80666024, 8.80666024, 8.90573226, 8.976498  , 8.99065114,\n",
       "       8.67928192, 8.77835395, 9.11802946, 8.96234485, 8.38206584,\n",
       "       8.12730921, 8.96234485, 9.10387631, 8.91988541, 8.3396064 ,\n",
       "       8.83496653, 7.7593274 , 8.26884067, 8.42452528, 7.67440852,\n",
       "       8.63682248, 7.84424628, 8.39621899, 8.01408403, 8.16976865,\n",
       "       8.26884067, 7.70271481, 8.31130011, 7.74517425, 8.9481917 ,\n",
       "       7.87255257, 9.07557002, 9.21710149, 8.90573226, 8.38206584,\n",
       "       9.10387631, 8.29714696, 8.65097563, 8.69343507, 8.53775045,\n",
       "       8.19807494, 8.43867843, 8.07069662, 9.01895744, 8.77835395,\n",
       "       9.18879519, 8.79250709, 8.79250709, 9.23125463, 8.82081338,\n",
       "       8.3396064 , 8.82081338, 8.66512877, 7.68856166, 9.03311058,\n",
       "       8.7642008 , 8.35375955, 9.20294834, 7.91501201, 8.91988541,\n",
       "       7.80178684, 8.18392179, 7.74517425, 8.58020989, 9.17464205,\n",
       "       8.18392179, 8.69343507, 8.91988541, 9.20294834, 8.75004765,\n",
       "       7.77348054, 8.79250709, 8.67928192, 8.62266933, 8.39621899,\n",
       "       8.28299382, 9.20294834, 9.01895744, 7.81593998, 9.06141688,\n",
       "       7.98577774, 9.18879519, 7.99993089, 8.29714696, 8.01408403,\n",
       "       8.49529101, 9.07557002, 7.83009313, 9.08972317, 8.60851619,\n",
       "       8.93403856, 8.59436304, 8.99065114, 9.00480429, 8.93403856,\n",
       "       8.84911968, 8.89157912, 9.07557002, 9.03311058, 9.14633575,\n",
       "       7.78763369, 8.3679127 , 8.70758821, 9.06141688, 7.91501201,\n",
       "       8.72174136, 7.90085886, 9.21710149, 8.24053438, 8.58020989,\n",
       "       8.49529101, 8.50944416, 9.18879519, 7.88670571, 8.42452528,\n",
       "       7.77348054, 8.01408403, 7.77348054, 8.1556155 , 8.72174136,\n",
       "       8.63682248, 8.73589451, 8.28299382, 7.78763369, 8.96234485,\n",
       "       9.20294834, 8.48113787, 9.24540778, 8.82081338, 7.81593998,\n",
       "       8.28299382, 8.04239033, 8.59436304, 8.77835395, 8.21222808,\n",
       "       7.67440852, 8.25468752, 8.09900291, 8.65097563, 7.90085886,\n",
       "       8.62266933, 8.66512877, 9.13218261, 8.65097563, 8.87742597,\n",
       "       8.22638123, 8.59436304, 7.97162459, 7.81593998, 8.96234485,\n",
       "       9.01895744, 8.48113787, 8.1556155 , 8.75004765, 8.46698472,\n",
       "       8.39621899, 8.14146235, 8.53775045])"
      ]
     },
     "execution_count": 90,
     "metadata": {},
     "output_type": "execute_result"
    }
   ],
   "source": [
    "developed_df = developed_df[developed_df['Year'] > 1900]\n",
    "\n",
    "x = developed_df['Year'].values.reshape(-1,1)\n",
    "y = developed_df['AverageTemperature']\n",
    "\n",
    "from sklearn.model_selection import train_test_split\n",
    "\n",
    "x_train, x_test, y_train, y_test = train_test_split(x, y, test_size=0.3, random_state=0)\n",
    "\n",
    "from sklearn.linear_model import LinearRegression\n",
    "\n",
    "regr = LinearRegression()\n",
    "regr.fit(x_train, y_train)\n",
    "\n",
    "y_pred_2 = regr.predict(x_test)\n",
    "y_pred_2"
   ]
  },
  {
   "cell_type": "markdown",
   "id": "b0806f70",
   "metadata": {},
   "source": [
    "### coefficient and intercept for developed_df"
   ]
  },
  {
   "cell_type": "code",
   "execution_count": 92,
   "id": "57909956",
   "metadata": {},
   "outputs": [
    {
     "data": {
      "text/plain": [
       "(array([0.01415315]), -19.23072299845706)"
      ]
     },
     "execution_count": 92,
     "metadata": {},
     "output_type": "execute_result"
    }
   ],
   "source": [
    "regr.coef_,regr.intercept_"
   ]
  },
  {
   "cell_type": "markdown",
   "id": "d169520f",
   "metadata": {},
   "source": [
    "## Predicting the temperatures in developed countries in the year 2025"
   ]
  },
  {
   "cell_type": "code",
   "execution_count": 93,
   "id": "3d262d7e",
   "metadata": {},
   "outputs": [
    {
     "data": {
      "text/plain": [
       "array([9.42939868])"
      ]
     },
     "execution_count": 93,
     "metadata": {},
     "output_type": "execute_result"
    }
   ],
   "source": [
    "regr.predict([[2025]])"
   ]
  },
  {
   "cell_type": "code",
   "execution_count": null,
   "id": "76077246",
   "metadata": {},
   "outputs": [],
   "source": []
  }
 ],
 "metadata": {
  "kernelspec": {
   "display_name": "Python 3",
   "language": "python",
   "name": "python3"
  },
  "language_info": {
   "codemirror_mode": {
    "name": "ipython",
    "version": 3
   },
   "file_extension": ".py",
   "mimetype": "text/x-python",
   "name": "python",
   "nbconvert_exporter": "python",
   "pygments_lexer": "ipython3",
   "version": "3.8.8"
  }
 },
 "nbformat": 4,
 "nbformat_minor": 5
}
